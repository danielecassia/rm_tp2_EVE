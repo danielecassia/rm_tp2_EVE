{
 "cells": [
  {
   "cell_type": "markdown",
   "metadata": {},
   "source": [
    "# TP2 Robotica Movel - Potential Fields\n",
    "\n",
    "## Alunos\n",
    "- Bernardo Nogueira Borges 2020006396\n",
    "- Daniele Cassia Silva Diniz 2020076874\n"
   ]
  },
  {
   "cell_type": "markdown",
   "metadata": {},
   "source": [
    "### Importando Libs"
   ]
  },
  {
   "cell_type": "code",
   "execution_count": 16,
   "metadata": {},
   "outputs": [],
   "source": [
    "# from coppeliasim_zmqremoteapi_client import RemoteAPIClient\n",
    "import math\n",
    "import matplotlib.pyplot as plt\n",
    "import matplotlib.patches as patches\n",
    "import networkx as nx\n",
    "import numpy as np\n",
    "\n",
    "# client = RemoteAPIClient()\n",
    "# sim = client.require('sim')\n",
    "np.set_printoptions(precision=3,suppress=True)"
   ]
  },
  {
   "cell_type": "markdown",
   "metadata": {},
   "source": [
    "### Definindo Parametros"
   ]
  },
  {
   "cell_type": "markdown",
   "metadata": {},
   "source": [
    "### Obtendo Obstaculos da Imagem"
   ]
  },
  {
   "cell_type": "markdown",
   "metadata": {},
   "source": [
    "### Criando Gradiente"
   ]
  },
  {
   "cell_type": "markdown",
   "metadata": {},
   "source": [
    "## Funções Potencial"
   ]
  },
  {
   "cell_type": "markdown",
   "metadata": {},
   "source": [
    "### Força de Atração\n",
    "$$F_{att}(q) = k_{att} \\cdot (q_{goal} - q)$$"
   ]
  },
  {
   "cell_type": "code",
   "execution_count": 10,
   "metadata": {},
   "outputs": [],
   "source": [
    "def ForceAttraction(q, q_goal, katt=.01):\n",
    "    return katt * (q_goal - q)"
   ]
  },
  {
   "cell_type": "markdown",
   "metadata": {},
   "source": [
    "### Força de repulsão\n",
    "$$F_{rep,i}(q) = -\\nabla U_{rep,i}(q)$$\n",
    "$$=\\begin{cases}\n",
    "  \\begin{aligned}\n",
    "    \\frac{k_{rep,i}}{\\rho_i^2(q)}\\left( \\frac{1}{\\rho_i(q)} - \\frac{1}{\\rho_{0,i}} \\right)^{\\gamma-1} \\frac{q - q_{obs,i}}{\\rho_i(q)} &, \\textnormal{se } \\rho_i(q) \\le \\rho_{0,i}\\\\\n",
    "    0&, \\textnormal{se } \\rho_i(q) \\gt \\rho_{0,i}\\\\\n",
    "  \\end{aligned}\n",
    "\\end{cases}\n",
    "$$"
   ]
  },
  {
   "cell_type": "code",
   "execution_count": 11,
   "metadata": {},
   "outputs": [],
   "source": [
    "def ForceRepulsion(q, obs, R=3, krep=.1):\n",
    "    # Obstaculo: (x,y,r)\n",
    "    v = q - obs[0:2]\n",
    "    d = np.linalg.norm(v, axis=1) - obs[2]\n",
    "    d = d.reshape((len(v), 1))\n",
    "\n",
    "    rep = (1/d**2)*((1/d)-(1/R))*(v/d)\n",
    "\n",
    "    invalid = np.squeeze(d > R)\n",
    "    rep[invalid, :] = 0\n",
    "\n",
    "    return krep * rep\n"
   ]
  },
  {
   "cell_type": "markdown",
   "metadata": {},
   "source": [
    "### Força Resultante \n",
    "$$F(q)  = F_{att}(q) + \\sum_{i=1}^{p}{F_{rep,i}(q)}$$"
   ]
  },
  {
   "cell_type": "code",
   "execution_count": 18,
   "metadata": {},
   "outputs": [],
   "source": [
    "# TODO: Deal with laser readings ?\n",
    "def ForceResult(q,q_goal,laser_reads):\n",
    "    ans = ForceAttraction(q,q_goal) \n",
    "    for i in range(len(laser_reads)):\n",
    "        ans += ForceRepulsion(q,laser_reads[i])\n",
    "    return ans\n",
    "\n",
    "# ? Problem with the `q`... what type is it?\n",
    "# print(ForceResult(np.array([0,0]),\n",
    "#                   np.array([1,1]),\n",
    "#                   np.array([[1,1],[1,2]])))"
   ]
  },
  {
   "cell_type": "markdown",
   "metadata": {},
   "source": [
    "### Controladores\n",
    "- [De Luca e Oriolo, 1994](https://www.researchgate.net/publication/225543929_Control_of_Wheeled_Mobile_Robots_An_Experimental_Overview)\n",
    "$$v = k_{\\rho}(\\dot x \\cos \\theta + \\dot y \\sin \\theta)$$\n",
    "$$\\omega = k_{\\theta}(atan2(\\dot y,\\dot x) - \\theta)$$"
   ]
  },
  {
   "cell_type": "code",
   "execution_count": null,
   "metadata": {},
   "outputs": [],
   "source": []
  },
  {
   "cell_type": "markdown",
   "metadata": {},
   "source": [
    "### Movendo o Robo"
   ]
  }
 ],
 "metadata": {
  "kernelspec": {
   "display_name": "venv",
   "language": "python",
   "name": "python3"
  },
  "language_info": {
   "codemirror_mode": {
    "name": "ipython",
    "version": 3
   },
   "file_extension": ".py",
   "mimetype": "text/x-python",
   "name": "python",
   "nbconvert_exporter": "python",
   "pygments_lexer": "ipython3",
   "version": "3.12.3"
  }
 },
 "nbformat": 4,
 "nbformat_minor": 2
}
