{
 "cells": [
  {
   "cell_type": "markdown",
   "metadata": {},
   "source": [
    "# TP2 Robotica Movel - Potential Fields\n",
    "\n",
    "## Alunos\n",
    "- Bernardo Nogueira Borges 2020006396\n",
    "- Daniele Cassia Silva Diniz 2020076874\n"
   ]
  },
  {
   "cell_type": "markdown",
   "metadata": {},
   "source": [
    "### Importando Libs"
   ]
  },
  {
   "cell_type": "code",
   "execution_count": 2,
   "metadata": {},
   "outputs": [],
   "source": [
    "from coppeliasim_zmqremoteapi_client import RemoteAPIClient\n",
    "import math\n",
    "import matplotlib.pyplot as plt\n",
    "import matplotlib.patches as patches\n",
    "import networkx as nx\n",
    "import numpy as np\n",
    "\n",
    "client = RemoteAPIClient()\n",
    "sim = client.require('sim')\n",
    "np.set_printoptions(precision=3,suppress=True)\n",
    "\n"
   ]
  },
  {
   "cell_type": "markdown",
   "metadata": {},
   "source": [
    "### Definindo Parametros"
   ]
  },
  {
   "cell_type": "code",
   "execution_count": 8,
   "metadata": {},
   "outputs": [
    {
     "name": "stdout",
     "output_type": "stream",
     "text": [
      "Object /robotino and all components were disabled.\n"
     ]
    }
   ],
   "source": [
    "def disableObject(object_name):\n",
    "    object = sim.getObject(object_name)\n",
    "    if object == -1:\n",
    "        print(f\"No object with name {object_name} was found.\")\n",
    "        return\n",
    "    \n",
    "    def disableComponents(handle):\n",
    "        # Invisible\n",
    "        sim.setObjectInt32Param(handle,sim.objintparam_visibility_layer,0)\n",
    "\n",
    "        # No Dynamics\n",
    "        # sim.setObjectInt32Param(handle,sim.shapeintparam_static,1)\n",
    "\n",
    "        i = 0\n",
    "        while True:\n",
    "            child_handle = sim.getObjectChild(handle, i)\n",
    "            if child_handle == -1:\n",
    "                break\n",
    "            disableComponents(child_handle)\n",
    "            i += 1\n",
    "    \n",
    "    # Disable the object and recursive\n",
    "    disableComponents(object)\n",
    "    print(f\"Object {object_name} and all components were disabled.\")\n",
    "\n",
    "# Desativar Robotino (Maybe)\n",
    "\n"
   ]
  },
  {
   "cell_type": "code",
   "execution_count": 8,
   "metadata": {},
   "outputs": [],
   "source": [
    "\n",
    "CREATE_PLOTS = False"
   ]
  },
  {
   "cell_type": "markdown",
   "metadata": {},
   "source": [
    "### Obtendo Obstaculos da Imagem"
   ]
  },
  {
   "cell_type": "code",
   "execution_count": 4,
   "metadata": {},
   "outputs": [
    {
     "name": "stdout",
     "output_type": "stream",
     "text": [
      "q = [-0.7444717884063721, -2.3749983310699463, -1.4835309872482196]\n"
     ]
    }
   ],
   "source": [
    "pioneer = sim.getObject(\"/Pioneer_p3dx\")\n",
    "\n",
    "def getRobotQ():\n",
    "    robotM = sim.getObjectMatrix(pioneer)\n",
    "    return [robotM[3],robotM[7],math.atan2(robotM[1],robotM[0])]\n",
    "\n",
    "q = getRobotQ()\n",
    "print(f\"q = {q}\")\n",
    "\n",
    "def matrix_rel_robot(name):\n",
    "    obj = sim.getObject(f\"/{name}\")\n",
    "    M = sim.getObjectMatrix(obj,pioneer)\n",
    "    M = np.array(M).reshape(-1,4)\n",
    "    return M\n",
    "\n"
   ]
  },
  {
   "cell_type": "markdown",
   "metadata": {},
   "source": [
    "### Criando Gradiente"
   ]
  },
  {
   "cell_type": "markdown",
   "metadata": {},
   "source": [
    "## Funções Potencial"
   ]
  },
  {
   "cell_type": "markdown",
   "metadata": {},
   "source": [
    "### Força de Atração\n",
    "$$F_{att}(q) = k_{att} \\cdot (q_{goal} - q)$$"
   ]
  },
  {
   "cell_type": "code",
   "execution_count": 30,
   "metadata": {},
   "outputs": [],
   "source": [
    "def ForceAttraction(q, q_goal, katt=.01):\n",
    "    return katt * (q_goal - q)"
   ]
  },
  {
   "cell_type": "markdown",
   "metadata": {},
   "source": [
    "### Força de repulsão\n",
    "$$F_{rep,i}(q) = -\\nabla U_{rep,i}(q)$$\n",
    "$$=\\begin{cases}\n",
    "  \\begin{aligned}\n",
    "    \\frac{k_{rep,i}}{\\rho_i^2(q)}\\left( \\frac{1}{\\rho_i(q)} - \\frac{1}{\\rho_{0,i}} \\right)^{\\gamma-1} \\frac{q - q_{obs,i}}{\\rho_i(q)} &, \\textnormal{se } \\rho_i(q) \\le \\rho_{0,i}\\\\\n",
    "    0&, \\textnormal{se } \\rho_i(q) \\gt \\rho_{0,i}\\\\\n",
    "  \\end{aligned}\n",
    "\\end{cases}\n",
    "$$"
   ]
  },
  {
   "cell_type": "code",
   "execution_count": 31,
   "metadata": {},
   "outputs": [],
   "source": [
    "LIMIT_RANGE = 5\n",
    "\n",
    "def ForceRepulsion(q, q_obs_i, dist_i, krep=.1):\n",
    "    if dist_i > LIMIT_RANGE:\n",
    "        return 0\n",
    "    \n",
    "    ans = (krep / dist_i**2)\n",
    "    ans *= (1/dist_i) - (1/LIMIT_RANGE)\n",
    "    ans *= (q-q_obs_i) / dist_i \n",
    "\n",
    "    return ans\n"
   ]
  },
  {
   "cell_type": "markdown",
   "metadata": {},
   "source": [
    "### Força Resultante \n",
    "$$F(q)  = F_{att}(q) + \\sum_{i=1}^{p}{F_{rep,i}(q)}$$"
   ]
  },
  {
   "cell_type": "code",
   "execution_count": 34,
   "metadata": {},
   "outputs": [],
   "source": [
    "def ForceResult(q,q_goal,q_obs,dist):\n",
    "    ans = ForceAttraction(q,q_goal) \n",
    "    for i in range(len(q_obs)):\n",
    "        ans += ForceRepulsion(q,q_obs[i],dist[i])\n",
    "    return ans\n"
   ]
  },
  {
   "cell_type": "markdown",
   "metadata": {},
   "source": [
    "### Controladores\n",
    "- [De Luca e Oriolo, 1994](https://www.researchgate.net/publication/225543929_Control_of_Wheeled_Mobile_Robots_An_Experimental_Overview)\n",
    "$$v = k_{\\rho}(\\dot x \\cos \\theta + \\dot y \\sin \\theta)$$\n",
    "$$\\omega = k_{\\theta}(atan2(\\dot y,\\dot x) - \\theta)$$"
   ]
  },
  {
   "cell_type": "code",
   "execution_count": null,
   "metadata": {},
   "outputs": [],
   "source": []
  },
  {
   "cell_type": "markdown",
   "metadata": {},
   "source": [
    "### Definindo a Leitura do Lazer"
   ]
  },
  {
   "cell_type": "code",
   "execution_count": 38,
   "metadata": {},
   "outputs": [],
   "source": [
    "def readSensorData():\n",
    "    # ? Atualizacao da funcao simxGetStringSignal \n",
    "    string_range_data = sim.getStringSignal(\"hokuyo_range_data\")\n",
    "    string_angle_data = sim.getStringSignal(\"hokuyo_angle_data\")\n",
    "\n",
    "    # Verifica se os dados foram obtidos corretamente\n",
    "    if string_range_data == None or string_angle_data == None: return None\n",
    "    \n",
    "    # unpack dos dados de range e angulos do sensor\n",
    "    raw_range_data = sim.unpackFloatTable(string_range_data)\n",
    "    raw_angle_data = sim.unpackFloatTable(string_angle_data)\n",
    "    return raw_range_data, raw_angle_data\n",
    "\n",
    "def getObstaclePositions(laser_data):\n",
    "    # Matriz de transformação laser -> robô\n",
    "    Trl = matrix_rel_robot(\"fastHokuyo\")\n",
    "    Trl = np.vstack([Trl,[0,0,0,1]])\n",
    "\n",
    "    # Matriz de transformação robô -> mundo\n",
    "    Twr = sim.getObjectMatrix(pioneer)\n",
    "    Twr = np.vstack([np.array(Twr).reshape(3,4),[0,0,0,1]])\n",
    "\n",
    "    def laser_read_to_point(laser_read):\n",
    "        ang, dist = laser_read\n",
    "        x = dist * np.cos(ang)\n",
    "        y = dist * np.sin(ang)\n",
    "                \n",
    "        # Ponto de leitura no referencial do laser\n",
    "        Pl = np.array([x,y,0,1])\n",
    "        # ponto laser -> robô\n",
    "        Pr =  Trl @ Pl\n",
    "        # ponto robô -> mundo\n",
    "        Pw =  Twr @ Pr\n",
    "        return np.array([Pw[0],Pw[1]])\n",
    "\n",
    "    return list(map(laser_read_to_point,laser_data))\n",
    "\n",
    "\n",
    "def draw_laser_data(laser_data,ax, max_sensor_range=5,show_robot=True):\n",
    "\n",
    "    # Matriz de transformação laser -> robô\n",
    "    Trl = matrix_rel_robot(\"fastHokuyo\")\n",
    "    Trl = np.vstack([Trl,[0,0,0,1]])\n",
    "\n",
    "    # Matriz de transformação robô -> mundo\n",
    "    Twr = sim.getObjectMatrix(pioneer)\n",
    "    Twr = np.vstack([np.array(Twr).reshape(3,4),[0,0,0,1]])\n",
    "\n",
    " \n",
    "    for i in range(len(laser_data)):\n",
    "        ang, dist = laser_data[i]\n",
    "        \n",
    "        # Quando o feixe não acerta nada, retorna o valor máximo (definido na simulação)\n",
    "        # Logo, usar um pequeno limiar do máximo para considerar a leitura\n",
    "        if (max_sensor_range - dist) < 0.1:\n",
    "            continue\n",
    "\n",
    "        x = dist * np.cos(ang)\n",
    "        y = dist * np.sin(ang)\n",
    "\n",
    "        if show_robot:\n",
    "            c = 'b' if ang < 0 else 'r'\n",
    "        else:\n",
    "            c = 'g'\n",
    "        \n",
    "        # Ponto de leitura no referencial do laser\n",
    "        Pl = np.array([x,y,0,1])\n",
    "        # ponto laser -> robô\n",
    "        Pr =  Trl @ Pl\n",
    "        # ponto robô -> mundo\n",
    "        Pw =  Twr @ Pr\n",
    "\n",
    "        ax.plot(Pw[0], Pw[1], 'o', color=c)\n",
    "\n",
    "    if show_robot:\n",
    "        # Valores globais do Robo\n",
    "        q = getRobotQ()\n",
    "\n",
    "        # Plot do robô com referencial global\n",
    "        ax.plot(q[0], q[1], marker=(3, 0, q[2]*90), markersize=20, linestyle='None', color='black')\n",
    "\n",
    "    ax.grid()\n",
    "    ax.set_xlim([-max_sensor_range, max_sensor_range])\n",
    "    ax.set_ylim([-max_sensor_range, max_sensor_range])"
   ]
  },
  {
   "cell_type": "markdown",
   "metadata": {},
   "source": [
    "### Movendo o Robo"
   ]
  },
  {
   "cell_type": "code",
   "execution_count": 39,
   "metadata": {},
   "outputs": [
    {
     "name": "stdout",
     "output_type": "stream",
     "text": [
      "[-0.743331522715727, -2.3870381110277514, -1.489867278883126]\n",
      "[15.867 -6.73 ]\n"
     ]
    }
   ],
   "source": [
    "sim.startSimulation()\n",
    "\n",
    "# Prosseguindo com as leituras\n",
    "# Geralmente a primeira leitura é inválida (atenção ao Operation Mode)\n",
    "# Em loop até garantir que as leituras serão válidas\n",
    "sensor_data = readSensorData()\n",
    "while sensor_data == None:\n",
    "    sensor_data = readSensorData()\n",
    "\n",
    "raw_range_data, raw_angle_data = sensor_data\n",
    "laser_data = np.array([raw_angle_data, raw_range_data]).T\n",
    "\n",
    "q = getRobotQ()\n",
    "print(q)\n",
    "q_goal = np.array([1,2])\n",
    "q_obs = getObstaclePositions(laser_data)\n",
    "\n",
    "if CREATE_PLOTS:\n",
    "    fig, ax = plt.subplots(figsize=(6, 6), dpi=100)\n",
    "    ax.set_aspect('equal')\n",
    "    ax.grid()\n",
    "    draw_laser_data(laser_data,ax)\n",
    "\n",
    "force = ForceResult(q[:2],q_goal,q_obs,dist=raw_range_data)\n",
    "print(force)\n",
    "\n",
    "while (t := sim.getSimulationTime()) < 1:\n",
    "    sim.step()\n",
    "\n",
    "sim.stopSimulation()\n"
   ]
  }
 ],
 "metadata": {
  "kernelspec": {
   "display_name": "venv",
   "language": "python",
   "name": "python3"
  },
  "language_info": {
   "codemirror_mode": {
    "name": "ipython",
    "version": 3
   },
   "file_extension": ".py",
   "mimetype": "text/x-python",
   "name": "python",
   "nbconvert_exporter": "python",
   "pygments_lexer": "ipython3",
   "version": "3.12.3"
  }
 },
 "nbformat": 4,
 "nbformat_minor": 2
}
