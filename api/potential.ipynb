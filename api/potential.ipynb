{
 "cells": [
  {
   "cell_type": "markdown",
   "metadata": {},
   "source": [
    "# TP2 Robotica Movel - Potential Fields\n",
    "\n",
    "## Alunos\n",
    "- Bernardo Nogueira Borges 2020006396\n",
    "- Daniele Cassia Silva Diniz 2020076874\n"
   ]
  },
  {
   "cell_type": "markdown",
   "metadata": {},
   "source": [
    "### Importando Libs"
   ]
  },
  {
   "cell_type": "code",
   "execution_count": 277,
   "metadata": {},
   "outputs": [],
   "source": [
    "from coppeliasim_zmqremoteapi_client import RemoteAPIClient\n",
    "import numpy as np\n",
    "\n",
    "client = RemoteAPIClient()\n",
    "sim = client.require('sim')\n",
    "np.set_printoptions(precision=3,suppress=True)"
   ]
  },
  {
   "cell_type": "markdown",
   "metadata": {},
   "source": [
    "### Definindo Parametros"
   ]
  },
  {
   "cell_type": "code",
   "execution_count": 278,
   "metadata": {},
   "outputs": [],
   "source": [
    "\n",
    "q_init = np.array([0,0])\n",
    "q_goal = np.array([-2,8])"
   ]
  },
  {
   "cell_type": "markdown",
   "metadata": {},
   "source": [
    "## Funções Potencial"
   ]
  },
  {
   "cell_type": "markdown",
   "metadata": {},
   "source": [
    "### Força de Atração\n",
    "$$F_{att}(q) = k_{att} \\cdot (q_{goal} - q)$$"
   ]
  },
  {
   "cell_type": "code",
   "execution_count": 279,
   "metadata": {},
   "outputs": [],
   "source": [
    "def ForceAttraction(q, q_goal, katt=0.01):\n",
    "    return katt * (q_goal - q)"
   ]
  },
  {
   "cell_type": "markdown",
   "metadata": {},
   "source": [
    "### Força de repulsão\n",
    "$$F_{rep,i}(q) = -\\nabla U_{rep,i}(q)$$\n",
    "$$=\\begin{cases}\n",
    "  \\begin{aligned}\n",
    "    \\frac{k_{rep,i}}{\\rho_i^2(q)}\\left( \\frac{1}{\\rho_i(q)} - \\frac{1}{\\rho_{0,i}} \\right)^{\\gamma-1} \\frac{q - q_{obs,i}}{\\rho_i(q)} &, \\textnormal{se } \\rho_i(q) \\le \\rho_{0,i}\\\\\n",
    "    0&, \\textnormal{se } \\rho_i(q) \\gt \\rho_{0,i}\\\\\n",
    "  \\end{aligned}\n",
    "\\end{cases}\n",
    "$$"
   ]
  },
  {
   "cell_type": "code",
   "execution_count": 280,
   "metadata": {},
   "outputs": [],
   "source": [
    "LIMIT_RANGE = 2 \n",
    "\n",
    "def ForceRepulsion(q, q_obs_i, krep=.5):\n",
    "    d = np.linalg.norm(q - q_obs_i)\n",
    "\n",
    "    if d > LIMIT_RANGE:\n",
    "        return np.array([0.0,0.0])\n",
    "    \n",
    "    return (krep / d**2) * ((1/d) - (1/LIMIT_RANGE)) * (q-q_obs_i) / d\n"
   ]
  },
  {
   "cell_type": "markdown",
   "metadata": {},
   "source": [
    "### Força Resultante \n",
    "$$F(q)  = F_{att}(q) + \\sum_{i=1}^{p}{F_{rep,i}(q)}$$"
   ]
  },
  {
   "cell_type": "code",
   "execution_count": 281,
   "metadata": {},
   "outputs": [],
   "source": [
    "def ForceResult(q,q_goal,q_obs):\n",
    "    ans = ForceAttraction(q,q_goal) \n",
    "\n",
    "    for i in range(len(q_obs)):\n",
    "        ans += ForceRepulsion(q,q_obs[i])\n",
    "\n",
    "    # Random, para evitar minimos locais\n",
    "    # ans += np.random_uniform(-0.04,0.04,size=2)\n",
    "    \n",
    "    return ans"
   ]
  },
  {
   "cell_type": "markdown",
   "metadata": {},
   "source": [
    "### Controladores\n",
    "- [De Luca e Oriolo, 1994](https://www.researchgate.net/publication/225543929_Control_of_Wheeled_Mobile_Robots_An_Experimental_Overview)\n",
    "$$v = k_v(\\dot x \\cos \\theta + \\dot y \\sin \\theta)$$\n",
    "$$\\omega = k_{\\omega}(atan2(\\dot y,\\dot x) - \\theta)$$\n",
    "$$u = \\begin{bmatrix}\n",
    "   v \\\\\n",
    "   \\omega \n",
    "\\end{bmatrix}\n",
    "$$"
   ]
  },
  {
   "cell_type": "code",
   "execution_count": 282,
   "metadata": {},
   "outputs": [],
   "source": [
    "def deLucaOriolo(force,theta):\n",
    "    kv = 1\n",
    "    kw = .7\n",
    "    Fx, Fy = force\n",
    "\n",
    "    v = kv*(Fx*np.cos(theta) + Fy*np.sin(theta))\n",
    "    w = kw*(np.arctan2(Fy,Fx) - theta)\n",
    "\n",
    "    return [v,w]"
   ]
  },
  {
   "cell_type": "markdown",
   "metadata": {},
   "source": [
    "### Model Cinemático - Robô Diferencial\n",
    "$$\\omega_R = \\frac{2v+\\omega L}{2r}$$\n",
    "$$\\omega_L = \\frac{2v-\\omega L}{2r}$$"
   ]
  },
  {
   "cell_type": "code",
   "execution_count": 283,
   "metadata": {},
   "outputs": [],
   "source": [
    "L = 0.381   # Metros\n",
    "r = 0.0975  # Metros\n",
    "\n",
    "def differentialModel(v,w):\n",
    "    wr = ((2.0*v) + (w*L))/(2.0*r)\n",
    "    wl = ((2.0*v) - (w*L))/(2.0*r)\n",
    "    return [wl,wr]\n",
    " "
   ]
  },
  {
   "cell_type": "markdown",
   "metadata": {},
   "source": [
    "## Interação"
   ]
  },
  {
   "cell_type": "markdown",
   "metadata": {},
   "source": [
    "### Definindo a Leitura do Lazer"
   ]
  },
  {
   "cell_type": "code",
   "execution_count": 284,
   "metadata": {},
   "outputs": [],
   "source": [
    "def readSensorData():\n",
    "    string_range_data = sim.getStringSignal(\"hokuyo_range_data\")\n",
    "    string_angle_data = sim.getStringSignal(\"hokuyo_angle_data\")\n",
    "\n",
    "    # Verifica se os dados foram obtidos corretamente\n",
    "    if string_range_data == None or string_angle_data == None: return None\n",
    "    \n",
    "    # unpack dos dados de range e angulos do sensor\n",
    "    raw_range_data = sim.unpackFloatTable(string_range_data)\n",
    "    raw_angle_data = sim.unpackFloatTable(string_angle_data)\n",
    "    return raw_range_data, raw_angle_data\n",
    "\n",
    "def getLaserData():\n",
    "    # Prosseguindo com as leituras\n",
    "    # Geralmente a primeira leitura é inválida (atenção ao Operation Mode)\n",
    "    # Em loop até garantir que as leituras serão válidas\n",
    "    sensor_data = readSensorData()\n",
    "    while sensor_data == None:\n",
    "        sensor_data = readSensorData()\n",
    "\n",
    "    raw_range_data, raw_angle_data = sensor_data\n",
    "    laser_data = np.array([raw_angle_data, raw_range_data]).T\n",
    "    return laser_data\n"
   ]
  },
  {
   "cell_type": "markdown",
   "metadata": {},
   "source": [
    "### Iniciando o Robô"
   ]
  },
  {
   "cell_type": "code",
   "execution_count": 285,
   "metadata": {},
   "outputs": [],
   "source": [
    "sim.stopSimulation()\n",
    "\n",
    "# Iniciar o Pioneer\n",
    "pioneer = sim.getObject(\"/Pioneer\")\n",
    "sim.setObjectPosition(pioneer,[int(q_init[0]),int(q_init[1]),.2])\n",
    "\n",
    "right_motor = sim.getObject(\"/Pioneer/rightMotor\")\n",
    "left_motor = sim.getObject(\"/Pioneer/leftMotor\")\n",
    "\n",
    "sim.setJointTargetVelocity(right_motor, 0)\n",
    "sim.setJointTargetVelocity(left_motor, 0)\n",
    "\n",
    "# Set Goal\n",
    "goal_object = sim.getObject(\"/Goal\")\n",
    "sim.setObjectPosition(goal_object,[int(q_goal[0]),int(q_goal[1]),.2])\n",
    "\n",
    "def getObjectXY(obj):\n",
    "    *q, _ = sim.getObjectPosition(obj)\n",
    "    return np.array(q[:2])\n",
    "\n",
    "def getObjectAngle(obj):\n",
    "    ori = sim.getObjectOrientation(obj)\n",
    "    return ori[2]\n",
    "\n",
    "q = getObjectXY(pioneer)"
   ]
  },
  {
   "cell_type": "markdown",
   "metadata": {},
   "source": [
    "### Transformando Coordenadas"
   ]
  },
  {
   "cell_type": "code",
   "execution_count": 286,
   "metadata": {},
   "outputs": [],
   "source": [
    "\n",
    "def matrix_rel_robot(name):\n",
    "    obj = sim.getObject(name)\n",
    "    M = sim.getObjectMatrix(obj,pioneer)\n",
    "    M = np.array(M).reshape(-1,4)\n",
    "    return M\n",
    "\n",
    "def getObstaclePositions(laser_data):\n",
    "\n",
    "    # Matriz de transformação laser -> robô\n",
    "    Trl = matrix_rel_robot(\"/Pioneer/fastHokuyo\")\n",
    "    Trl = np.vstack([Trl,[0,0,0,1]])\n",
    "\n",
    "    # Matriz de transformação robô -> mundo\n",
    "    Twr = sim.getObjectMatrix(pioneer)\n",
    "    Twr = np.vstack([np.array(Twr).reshape(3,4),[0,0,0,1]])\n",
    "\n",
    "    def laser_read_to_point(laser_read):\n",
    "        ang, dist = laser_read\n",
    "        x = dist * np.cos(ang)\n",
    "        y = dist * np.sin(ang)\n",
    "                \n",
    "        # Ponto de leitura no referencial do laser\n",
    "        Pl = np.array([x,y,0,1])\n",
    "        # ponto laser -> robô\n",
    "        Pr =  Trl @ Pl\n",
    "        # ponto robô -> mundo\n",
    "        Pw =  Twr @ Pr\n",
    "        return np.array([Pw[0],Pw[1]])\n",
    "\n",
    "    return list(map(laser_read_to_point,laser_data))\n"
   ]
  },
  {
   "cell_type": "markdown",
   "metadata": {},
   "source": [
    "### Movimentando o Robô"
   ]
  },
  {
   "cell_type": "code",
   "execution_count": 287,
   "metadata": {},
   "outputs": [
    {
     "ename": "KeyboardInterrupt",
     "evalue": "",
     "output_type": "error",
     "traceback": [
      "\u001b[1;31m---------------------------------------------------------------------------\u001b[0m",
      "\u001b[1;31mKeyboardInterrupt\u001b[0m                         Traceback (most recent call last)",
      "Cell \u001b[1;32mIn[287], line 12\u001b[0m\n\u001b[0;32m      9\u001b[0m     \u001b[38;5;28mprint\u001b[39m(\u001b[38;5;124m\"\u001b[39m\u001b[38;5;124mGoal reached :)\u001b[39m\u001b[38;5;124m\"\u001b[39m)\n\u001b[0;32m     10\u001b[0m     \u001b[38;5;28;01mbreak\u001b[39;00m\n\u001b[1;32m---> 12\u001b[0m laser_data \u001b[38;5;241m=\u001b[39m \u001b[43mgetLaserData\u001b[49m\u001b[43m(\u001b[49m\u001b[43m)\u001b[49m\n\u001b[0;32m     14\u001b[0m \u001b[38;5;66;03m# Filtrando leituras distantes\u001b[39;00m\n\u001b[0;32m     15\u001b[0m laser_data \u001b[38;5;241m=\u001b[39m laser_data[laser_data[:, \u001b[38;5;241m1\u001b[39m] \u001b[38;5;241m>\u001b[39m LIMIT_RANGE]\n",
      "Cell \u001b[1;32mIn[284], line 19\u001b[0m, in \u001b[0;36mgetLaserData\u001b[1;34m()\u001b[0m\n\u001b[0;32m     17\u001b[0m sensor_data \u001b[38;5;241m=\u001b[39m readSensorData()\n\u001b[0;32m     18\u001b[0m \u001b[38;5;28;01mwhile\u001b[39;00m sensor_data \u001b[38;5;241m==\u001b[39m \u001b[38;5;28;01mNone\u001b[39;00m:\n\u001b[1;32m---> 19\u001b[0m     sensor_data \u001b[38;5;241m=\u001b[39m \u001b[43mreadSensorData\u001b[49m\u001b[43m(\u001b[49m\u001b[43m)\u001b[49m\n\u001b[0;32m     21\u001b[0m raw_range_data, raw_angle_data \u001b[38;5;241m=\u001b[39m sensor_data\n\u001b[0;32m     22\u001b[0m laser_data \u001b[38;5;241m=\u001b[39m np\u001b[38;5;241m.\u001b[39marray([raw_angle_data, raw_range_data])\u001b[38;5;241m.\u001b[39mT\n",
      "Cell \u001b[1;32mIn[284], line 3\u001b[0m, in \u001b[0;36mreadSensorData\u001b[1;34m()\u001b[0m\n\u001b[0;32m      1\u001b[0m \u001b[38;5;28;01mdef\u001b[39;00m \u001b[38;5;21mreadSensorData\u001b[39m():\n\u001b[0;32m      2\u001b[0m     string_range_data \u001b[38;5;241m=\u001b[39m sim\u001b[38;5;241m.\u001b[39mgetStringSignal(\u001b[38;5;124m\"\u001b[39m\u001b[38;5;124mhokuyo_range_data\u001b[39m\u001b[38;5;124m\"\u001b[39m)\n\u001b[1;32m----> 3\u001b[0m     string_angle_data \u001b[38;5;241m=\u001b[39m \u001b[43msim\u001b[49m\u001b[38;5;241;43m.\u001b[39;49m\u001b[43mgetStringSignal\u001b[49m\u001b[43m(\u001b[49m\u001b[38;5;124;43m\"\u001b[39;49m\u001b[38;5;124;43mhokuyo_angle_data\u001b[39;49m\u001b[38;5;124;43m\"\u001b[39;49m\u001b[43m)\u001b[49m\n\u001b[0;32m      5\u001b[0m     \u001b[38;5;66;03m# Verifica se os dados foram obtidos corretamente\u001b[39;00m\n\u001b[0;32m      6\u001b[0m     \u001b[38;5;28;01mif\u001b[39;00m string_range_data \u001b[38;5;241m==\u001b[39m \u001b[38;5;28;01mNone\u001b[39;00m \u001b[38;5;129;01mor\u001b[39;00m string_angle_data \u001b[38;5;241m==\u001b[39m \u001b[38;5;28;01mNone\u001b[39;00m: \u001b[38;5;28;01mreturn\u001b[39;00m \u001b[38;5;28;01mNone\u001b[39;00m\n",
      "File \u001b[1;32md:\\dev\\py\\rm_tp2_EVE\\.venv\\Lib\\site-packages\\coppeliasim_zmqremoteapi_client\\__init__.py:161\u001b[0m, in \u001b[0;36mRemoteAPIClient.getObject.<locals>.<lambda>\u001b[1;34m(func, *a)\u001b[0m\n\u001b[0;32m    159\u001b[0m     \u001b[38;5;28;01mraise\u001b[39;00m \u001b[38;5;167;01mValueError\u001b[39;00m(\u001b[38;5;124m'\u001b[39m\u001b[38;5;124mfound nondict\u001b[39m\u001b[38;5;124m'\u001b[39m)\n\u001b[0;32m    160\u001b[0m \u001b[38;5;28;01mif\u001b[39;00m \u001b[38;5;28mlen\u001b[39m(v) \u001b[38;5;241m==\u001b[39m \u001b[38;5;241m1\u001b[39m \u001b[38;5;129;01mand\u001b[39;00m \u001b[38;5;124m'\u001b[39m\u001b[38;5;124mfunc\u001b[39m\u001b[38;5;124m'\u001b[39m \u001b[38;5;129;01min\u001b[39;00m v:\n\u001b[1;32m--> 161\u001b[0m     \u001b[38;5;28msetattr\u001b[39m(ret, k, \u001b[38;5;28;01mlambda\u001b[39;00m \u001b[38;5;241m*\u001b[39ma, func\u001b[38;5;241m=\u001b[39m\u001b[38;5;124mf\u001b[39m\u001b[38;5;124m'\u001b[39m\u001b[38;5;132;01m{\u001b[39;00mname\u001b[38;5;132;01m}\u001b[39;00m\u001b[38;5;124m.\u001b[39m\u001b[38;5;132;01m{\u001b[39;00mk\u001b[38;5;132;01m}\u001b[39;00m\u001b[38;5;124m'\u001b[39m: \u001b[38;5;28;43mself\u001b[39;49m\u001b[38;5;241;43m.\u001b[39;49m\u001b[43mcall\u001b[49m\u001b[43m(\u001b[49m\u001b[43mfunc\u001b[49m\u001b[43m,\u001b[49m\u001b[43m \u001b[49m\u001b[43ma\u001b[49m\u001b[43m)\u001b[49m)\n\u001b[0;32m    162\u001b[0m \u001b[38;5;28;01melif\u001b[39;00m \u001b[38;5;28mlen\u001b[39m(v) \u001b[38;5;241m==\u001b[39m \u001b[38;5;241m1\u001b[39m \u001b[38;5;129;01mand\u001b[39;00m \u001b[38;5;124m'\u001b[39m\u001b[38;5;124mconst\u001b[39m\u001b[38;5;124m'\u001b[39m \u001b[38;5;129;01min\u001b[39;00m v:\n\u001b[0;32m    163\u001b[0m     \u001b[38;5;28msetattr\u001b[39m(ret, k, v[\u001b[38;5;124m'\u001b[39m\u001b[38;5;124mconst\u001b[39m\u001b[38;5;124m'\u001b[39m])\n",
      "File \u001b[1;32md:\\dev\\py\\rm_tp2_EVE\\.venv\\Lib\\site-packages\\coppeliasim_zmqremoteapi_client\\__init__.py:123\u001b[0m, in \u001b[0;36mRemoteAPIClient.call\u001b[1;34m(self, func, args)\u001b[0m\n\u001b[0;32m    121\u001b[0m \u001b[38;5;28;01mdef\u001b[39;00m \u001b[38;5;21mcall\u001b[39m(\u001b[38;5;28mself\u001b[39m, func, args):\n\u001b[0;32m    122\u001b[0m     \u001b[38;5;66;03m# Call function with specified arguments. Is reentrant\u001b[39;00m\n\u001b[1;32m--> 123\u001b[0m     \u001b[38;5;28;43mself\u001b[39;49m\u001b[38;5;241;43m.\u001b[39;49m\u001b[43m_send\u001b[49m\u001b[43m(\u001b[49m\u001b[43m{\u001b[49m\u001b[38;5;124;43m'\u001b[39;49m\u001b[38;5;124;43mfunc\u001b[39;49m\u001b[38;5;124;43m'\u001b[39;49m\u001b[43m:\u001b[49m\u001b[43m \u001b[49m\u001b[43mfunc\u001b[49m\u001b[43m,\u001b[49m\u001b[43m \u001b[49m\u001b[38;5;124;43m'\u001b[39;49m\u001b[38;5;124;43margs\u001b[39;49m\u001b[38;5;124;43m'\u001b[39;49m\u001b[43m:\u001b[49m\u001b[43m \u001b[49m\u001b[43margs\u001b[49m\u001b[43m}\u001b[49m\u001b[43m)\u001b[49m\n\u001b[0;32m    124\u001b[0m     reply \u001b[38;5;241m=\u001b[39m \u001b[38;5;28mself\u001b[39m\u001b[38;5;241m.\u001b[39m_recv()\n\u001b[0;32m    125\u001b[0m     \u001b[38;5;28;01mwhile\u001b[39;00m \u001b[38;5;28misinstance\u001b[39m(reply, \u001b[38;5;28mdict\u001b[39m) \u001b[38;5;129;01mand\u001b[39;00m \u001b[38;5;124m'\u001b[39m\u001b[38;5;124mfunc\u001b[39m\u001b[38;5;124m'\u001b[39m \u001b[38;5;129;01min\u001b[39;00m reply:\n\u001b[0;32m    126\u001b[0m         \u001b[38;5;66;03m# We have a callback or a wait/repeat:\u001b[39;00m\n",
      "File \u001b[1;32md:\\dev\\py\\rm_tp2_EVE\\.venv\\Lib\\site-packages\\coppeliasim_zmqremoteapi_client\\__init__.py:103\u001b[0m, in \u001b[0;36mRemoteAPIClient._send\u001b[1;34m(self, req)\u001b[0m\n\u001b[0;32m    101\u001b[0m \u001b[38;5;28;01mif\u001b[39;00m \u001b[38;5;28mself\u001b[39m\u001b[38;5;241m.\u001b[39mverbose \u001b[38;5;241m>\u001b[39m \u001b[38;5;241m1\u001b[39m:\n\u001b[0;32m    102\u001b[0m     \u001b[38;5;28mprint\u001b[39m(\u001b[38;5;124mf\u001b[39m\u001b[38;5;124m'\u001b[39m\u001b[38;5;124mSending raw len=\u001b[39m\u001b[38;5;132;01m{\u001b[39;00m\u001b[38;5;28mlen\u001b[39m(rawReq)\u001b[38;5;132;01m}\u001b[39;00m\u001b[38;5;124m, base64=\u001b[39m\u001b[38;5;132;01m{\u001b[39;00mb64(rawReq)\u001b[38;5;132;01m}\u001b[39;00m\u001b[38;5;124m'\u001b[39m)\n\u001b[1;32m--> 103\u001b[0m \u001b[38;5;28;43mself\u001b[39;49m\u001b[38;5;241;43m.\u001b[39;49m\u001b[43msocket\u001b[49m\u001b[38;5;241;43m.\u001b[39;49m\u001b[43msend\u001b[49m\u001b[43m(\u001b[49m\u001b[43mrawReq\u001b[49m\u001b[43m)\u001b[49m\n",
      "File \u001b[1;32md:\\dev\\py\\rm_tp2_EVE\\.venv\\Lib\\site-packages\\zmq\\sugar\\socket.py:701\u001b[0m, in \u001b[0;36mSocket.send\u001b[1;34m(self, data, flags, copy, track, routing_id, group)\u001b[0m\n\u001b[0;32m    694\u001b[0m         data \u001b[38;5;241m=\u001b[39m zmq\u001b[38;5;241m.\u001b[39mFrame(\n\u001b[0;32m    695\u001b[0m             data,\n\u001b[0;32m    696\u001b[0m             track\u001b[38;5;241m=\u001b[39mtrack,\n\u001b[0;32m    697\u001b[0m             copy\u001b[38;5;241m=\u001b[39mcopy \u001b[38;5;129;01mor\u001b[39;00m \u001b[38;5;28;01mNone\u001b[39;00m,\n\u001b[0;32m    698\u001b[0m             copy_threshold\u001b[38;5;241m=\u001b[39m\u001b[38;5;28mself\u001b[39m\u001b[38;5;241m.\u001b[39mcopy_threshold,\n\u001b[0;32m    699\u001b[0m         )\n\u001b[0;32m    700\u001b[0m     data\u001b[38;5;241m.\u001b[39mgroup \u001b[38;5;241m=\u001b[39m group\n\u001b[1;32m--> 701\u001b[0m \u001b[38;5;28;01mreturn\u001b[39;00m \u001b[38;5;28;43msuper\u001b[39;49m\u001b[43m(\u001b[49m\u001b[43m)\u001b[49m\u001b[38;5;241;43m.\u001b[39;49m\u001b[43msend\u001b[49m\u001b[43m(\u001b[49m\u001b[43mdata\u001b[49m\u001b[43m,\u001b[49m\u001b[43m \u001b[49m\u001b[43mflags\u001b[49m\u001b[38;5;241;43m=\u001b[39;49m\u001b[43mflags\u001b[49m\u001b[43m,\u001b[49m\u001b[43m \u001b[49m\u001b[43mcopy\u001b[49m\u001b[38;5;241;43m=\u001b[39;49m\u001b[43mcopy\u001b[49m\u001b[43m,\u001b[49m\u001b[43m \u001b[49m\u001b[43mtrack\u001b[49m\u001b[38;5;241;43m=\u001b[39;49m\u001b[43mtrack\u001b[49m\u001b[43m)\u001b[49m\n",
      "File \u001b[1;32m_zmq.py:1073\u001b[0m, in \u001b[0;36mzmq.backend.cython._zmq.Socket.send\u001b[1;34m()\u001b[0m\n",
      "File \u001b[1;32m_zmq.py:1121\u001b[0m, in \u001b[0;36mzmq.backend.cython._zmq.Socket.send\u001b[1;34m()\u001b[0m\n",
      "File \u001b[1;32m_zmq.py:1320\u001b[0m, in \u001b[0;36mzmq.backend.cython._zmq._send_copy\u001b[1;34m()\u001b[0m\n",
      "File \u001b[1;32m_zmq.py:141\u001b[0m, in \u001b[0;36mzmq.backend.cython._zmq._check_rc\u001b[1;34m()\u001b[0m\n",
      "\u001b[1;31mKeyboardInterrupt\u001b[0m: "
     ]
    }
   ],
   "source": [
    "\n",
    "sim.startSimulation()\n",
    "\n",
    "while (t := sim.getSimulationTime()) < 300:\n",
    "    q = getObjectXY(pioneer)\n",
    "    q_goal = getObjectXY(goal_object)\n",
    "\n",
    "    error = np.linalg.norm(q_goal - q)\n",
    "    if error < 0.5:\n",
    "        print(\"Goal reached :)\")\n",
    "        break\n",
    "\n",
    "    laser_data = getLaserData()\n",
    "\n",
    "    # Filtrando leituras distantes\n",
    "    laser_data = laser_data[laser_data[:, 1] > LIMIT_RANGE]\n",
    "    q_obs = getObstaclePositions(laser_data)\n",
    "\n",
    "    force = ForceResult(q,q_goal,q_obs) \n",
    "\n",
    "    theta = getObjectAngle(pioneer)\n",
    "\n",
    "    # Controle Cinematico\n",
    "    [v,w] = deLucaOriolo(force,theta)\n",
    "\n",
    "    # Cinematica inversa\n",
    "    [wl,wr] = differentialModel(v,w)\n",
    " \n",
    "    # Enviando velocidades\n",
    "    sim.setJointTargetVelocity(left_motor,wl)\n",
    "    sim.setJointTargetVelocity(right_motor,wr)\n",
    "\n",
    "    sim.step()\n",
    "\n",
    "\n",
    "# Stop\n",
    "sim.setJointTargetVelocity(left_motor,0)\n",
    "sim.setJointTargetVelocity(right_motor,0)\n",
    "sim.stopSimulation()\n"
   ]
  }
 ],
 "metadata": {
  "kernelspec": {
   "display_name": "venv",
   "language": "python",
   "name": "python3"
  },
  "language_info": {
   "codemirror_mode": {
    "name": "ipython",
    "version": 3
   },
   "file_extension": ".py",
   "mimetype": "text/x-python",
   "name": "python",
   "nbconvert_exporter": "python",
   "pygments_lexer": "ipython3",
   "version": "3.12.3"
  }
 },
 "nbformat": 4,
 "nbformat_minor": 2
}
