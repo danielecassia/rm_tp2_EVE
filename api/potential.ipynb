{
 "cells": [
  {
   "cell_type": "markdown",
   "metadata": {},
   "source": [
    "# TP2 Robotica Movel - Potential Fields\n",
    "\n",
    "## Alunos\n",
    "- Bernardo Nogueira Borges 2020006396\n",
    "- Daniele Cassia Silva Diniz 2020076874\n"
   ]
  },
  {
   "cell_type": "markdown",
   "metadata": {},
   "source": [
    "### Importando Libs"
   ]
  },
  {
   "cell_type": "code",
   "execution_count": 376,
   "metadata": {},
   "outputs": [],
   "source": [
    "from coppeliasim_zmqremoteapi_client import RemoteAPIClient\n",
    "import numpy as np\n",
    "\n",
    "client = RemoteAPIClient()\n",
    "sim = client.require('sim')\n",
    "np.set_printoptions(precision=3,suppress=True)"
   ]
  },
  {
   "cell_type": "markdown",
   "metadata": {},
   "source": [
    "### Definindo Parametros"
   ]
  },
  {
   "cell_type": "code",
   "execution_count": 377,
   "metadata": {},
   "outputs": [],
   "source": [
    "\n",
    "# Star\n",
    "q_init = np.array([-8,-8])\n",
    "q_goal = np.array([-2,8])"
   ]
  },
  {
   "cell_type": "markdown",
   "metadata": {},
   "source": [
    "## Funções Potencial"
   ]
  },
  {
   "cell_type": "markdown",
   "metadata": {},
   "source": [
    "### Força de Atração\n",
    "$$F_{att}(q) = k_{att} \\cdot (q_{goal} - q)$$"
   ]
  },
  {
   "cell_type": "code",
   "execution_count": 378,
   "metadata": {},
   "outputs": [],
   "source": [
    "def ForceAttraction(q, q_goal, katt=0.2):\n",
    "    return katt * (q_goal - q)"
   ]
  },
  {
   "cell_type": "markdown",
   "metadata": {},
   "source": [
    "### Força de repulsão\n",
    "$$F_{rep,i}(q) = -\\nabla U_{rep,i}(q)$$\n",
    "$$=\\begin{cases}\n",
    "  \\begin{aligned}\n",
    "    \\frac{k_{rep,i}}{\\rho_i^2(q)}\\left( \\frac{1}{\\rho_i(q)} - \\frac{1}{\\rho_{0,i}} \\right)^{\\gamma-1} \\frac{q - q_{obs,i}}{\\rho_i(q)} &, \\textnormal{se } \\rho_i(q) \\le \\rho_{0,i}\\\\\n",
    "    0&, \\textnormal{se } \\rho_i(q) \\gt \\rho_{0,i}\\\\\n",
    "  \\end{aligned}\n",
    "\\end{cases}\n",
    "$$"
   ]
  },
  {
   "cell_type": "code",
   "execution_count": 379,
   "metadata": {},
   "outputs": [],
   "source": [
    "LIMIT_RANGE = 2 \n",
    "\n",
    "def ForceRepulsion(q, q_obs_i, krep=.5):\n",
    "    d = np.linalg.norm(q - q_obs_i)\n",
    "\n",
    "    if d > LIMIT_RANGE:\n",
    "        return np.array([0.0,0.0])\n",
    "    \n",
    "    return (krep / d**2) * ((1/d) - (1/LIMIT_RANGE)) * (q-q_obs_i) / d\n"
   ]
  },
  {
   "cell_type": "markdown",
   "metadata": {},
   "source": [
    "### Força Resultante \n",
    "$$F(q)  = F_{att}(q) + \\sum_{i=1}^{p}{F_{rep,i}(q)}$$"
   ]
  },
  {
   "cell_type": "code",
   "execution_count": 380,
   "metadata": {},
   "outputs": [],
   "source": [
    "def ForceResult(q,q_goal,q_obs):\n",
    "    ans = ForceAttraction(q,q_goal) \n",
    "\n",
    "    for i in range(len(q_obs)):\n",
    "        ans += ForceRepulsion(q,q_obs[i])\n",
    "\n",
    "    # Random, para evitar minimos locais\n",
    "    # ans += np.random_uniform(-0.04,0.04,size=2)\n",
    "    \n",
    "    return ans"
   ]
  },
  {
   "cell_type": "markdown",
   "metadata": {},
   "source": [
    "### Controladores\n",
    "- [De Luca e Oriolo, 1994](https://www.researchgate.net/publication/225543929_Control_of_Wheeled_Mobile_Robots_An_Experimental_Overview)\n",
    "$$v = k_v(\\dot x \\cos \\theta + \\dot y \\sin \\theta)$$\n",
    "$$\\omega = k_{\\omega}(atan2(\\dot y,\\dot x) - \\theta)$$\n",
    "$$u = \\begin{bmatrix}\n",
    "   v \\\\\n",
    "   \\omega \n",
    "\\end{bmatrix}\n",
    "$$"
   ]
  },
  {
   "cell_type": "code",
   "execution_count": 381,
   "metadata": {},
   "outputs": [],
   "source": [
    "def deLucaOriolo(force,theta):\n",
    "    kv = 1\n",
    "    kw = .7\n",
    "    Fx, Fy = force\n",
    "\n",
    "    v = kv*(Fx*np.cos(theta) + Fy*np.sin(theta))\n",
    "    w = kw*(np.arctan2(Fy,Fx) - theta)\n",
    "\n",
    "    return [v,w]"
   ]
  },
  {
   "cell_type": "markdown",
   "metadata": {},
   "source": [
    "### Model Cinemático - Robô Diferencial\n",
    "$$\\omega_R = \\frac{2v+\\omega L}{2r}$$\n",
    "$$\\omega_L = \\frac{2v-\\omega L}{2r}$$"
   ]
  },
  {
   "cell_type": "code",
   "execution_count": 382,
   "metadata": {},
   "outputs": [],
   "source": [
    "L = 0.381   # Metros\n",
    "r = 0.0975  # Metros\n",
    "\n",
    "def differentialModel(v,w):\n",
    "    wr = ((2.0*v) + (w*L))/(2.0*r)\n",
    "    wl = ((2.0*v) - (w*L))/(2.0*r)\n",
    "    return [wl,wr]\n",
    " "
   ]
  },
  {
   "cell_type": "markdown",
   "metadata": {},
   "source": [
    "## Interação"
   ]
  },
  {
   "cell_type": "markdown",
   "metadata": {},
   "source": [
    "### Definindo a Leitura do Lazer"
   ]
  },
  {
   "cell_type": "code",
   "execution_count": 383,
   "metadata": {},
   "outputs": [],
   "source": [
    "def readSensorData():\n",
    "    string_range_data = sim.getStringSignal(\"hokuyo_range_data\")\n",
    "    string_angle_data = sim.getStringSignal(\"hokuyo_angle_data\")\n",
    "\n",
    "    # Verifica se os dados foram obtidos corretamente\n",
    "    if string_range_data == None or string_angle_data == None: return None\n",
    "    \n",
    "    # unpack dos dados de range e angulos do sensor\n",
    "    raw_range_data = sim.unpackFloatTable(string_range_data)\n",
    "    raw_angle_data = sim.unpackFloatTable(string_angle_data)\n",
    "    return raw_range_data, raw_angle_data\n",
    "\n",
    "def getLaserData():\n",
    "    # Prosseguindo com as leituras\n",
    "    # Geralmente a primeira leitura é inválida (atenção ao Operation Mode)\n",
    "    # Em loop até garantir que as leituras serão válidas\n",
    "    sensor_data = readSensorData()\n",
    "    while sensor_data == None:\n",
    "        sensor_data = readSensorData()\n",
    "\n",
    "    raw_range_data, raw_angle_data = sensor_data\n",
    "    laser_data = np.array([raw_angle_data, raw_range_data]).T\n",
    "    return laser_data\n"
   ]
  },
  {
   "cell_type": "markdown",
   "metadata": {},
   "source": [
    "### Iniciando o Robô"
   ]
  },
  {
   "cell_type": "code",
   "execution_count": 384,
   "metadata": {},
   "outputs": [],
   "source": [
    "sim.stopSimulation()\n",
    "\n",
    "# Iniciar o Pioneer\n",
    "pioneer = sim.getObject(\"/Pioneer\")\n",
    "sim.setObjectPosition(pioneer,[int(q_init[0]),int(q_init[1]),.2])\n",
    "\n",
    "right_motor = sim.getObject(\"/Pioneer/rightMotor\")\n",
    "left_motor = sim.getObject(\"/Pioneer/leftMotor\")\n",
    "\n",
    "sim.setJointTargetVelocity(right_motor, 0)\n",
    "sim.setJointTargetVelocity(left_motor, 0)\n",
    "\n",
    "# Set Goal\n",
    "goal_object = sim.getObject(\"/Goal\")\n",
    "sim.setObjectPosition(goal_object,[int(q_goal[0]),int(q_goal[1]),.2])\n",
    "\n",
    "def getObjectXY(obj):\n",
    "    *q, _ = sim.getObjectPosition(obj)\n",
    "    return np.array(q[:2])\n",
    "\n",
    "def getObjectAngle(obj):\n",
    "    ori = sim.getObjectOrientation(obj)\n",
    "    return ori[2]\n",
    "\n",
    "q = getObjectXY(pioneer)"
   ]
  },
  {
   "cell_type": "markdown",
   "metadata": {},
   "source": [
    "### Transformando Coordenadas"
   ]
  },
  {
   "cell_type": "code",
   "execution_count": 385,
   "metadata": {},
   "outputs": [],
   "source": [
    "\n",
    "def matrix_rel_robot(name):\n",
    "    obj = sim.getObject(name)\n",
    "    M = sim.getObjectMatrix(obj,pioneer)\n",
    "    M = np.array(M).reshape(-1,4)\n",
    "    return M\n",
    "\n",
    "def getObstaclePositions(laser_data):\n",
    "\n",
    "    # Matriz de transformação laser -> robô\n",
    "    Trl = matrix_rel_robot(\"/Pioneer/fastHokuyo\")\n",
    "    Trl = np.vstack([Trl,[0,0,0,1]])\n",
    "\n",
    "    # Matriz de transformação robô -> mundo\n",
    "    Twr = sim.getObjectMatrix(pioneer)\n",
    "    Twr = np.vstack([np.array(Twr).reshape(3,4),[0,0,0,1]])\n",
    "\n",
    "    def laser_read_to_point(laser_read):\n",
    "        ang, dist = laser_read\n",
    "        x = dist * np.cos(ang)\n",
    "        y = dist * np.sin(ang)\n",
    "                \n",
    "        # Ponto de leitura no referencial do laser\n",
    "        Pl = np.array([x,y,0,1])\n",
    "        # ponto laser -> robô\n",
    "        Pr =  Trl @ Pl\n",
    "        # ponto robô -> mundo\n",
    "        Pw =  Twr @ Pr\n",
    "        return np.array([Pw[0],Pw[1]])\n",
    "\n",
    "    return list(map(laser_read_to_point,laser_data))\n"
   ]
  },
  {
   "cell_type": "markdown",
   "metadata": {},
   "source": [
    "### Movimentando o Robô"
   ]
  },
  {
   "cell_type": "code",
   "execution_count": 386,
   "metadata": {},
   "outputs": [
    {
     "name": "stdout",
     "output_type": "stream",
     "text": [
      "Goal reached :)\n"
     ]
    }
   ],
   "source": [
    "\n",
    "sim.startSimulation()\n",
    "\n",
    "while (t := sim.getSimulationTime()) < 300:\n",
    "    q = getObjectXY(pioneer)\n",
    "    q_goal = getObjectXY(goal_object)\n",
    "\n",
    "    error = np.linalg.norm(q_goal - q)\n",
    "    if error < 0.5:\n",
    "        print(\"Goal reached :)\")\n",
    "        break\n",
    "\n",
    "    laser_data = getLaserData()\n",
    "\n",
    "    # Filtrando leituras distantes\n",
    "    laser_data = laser_data[laser_data[:, 1] > LIMIT_RANGE]\n",
    "    q_obs = getObstaclePositions(laser_data)\n",
    "\n",
    "    force = ForceResult(q,q_goal,q_obs) \n",
    "\n",
    "    theta = getObjectAngle(pioneer)\n",
    "\n",
    "    # Controle Cinematico\n",
    "    [v,w] = deLucaOriolo(force,theta)\n",
    "\n",
    "    # Cinematica inversa\n",
    "    [wl,wr] = differentialModel(v,w)\n",
    " \n",
    "    # Enviando velocidades\n",
    "    sim.setJointTargetVelocity(left_motor,wl)\n",
    "    sim.setJointTargetVelocity(right_motor,wr)\n",
    "\n",
    "    sim.step()\n",
    "\n",
    "\n",
    "# Stop\n",
    "sim.setJointTargetVelocity(left_motor,0)\n",
    "sim.setJointTargetVelocity(right_motor,0)\n",
    "sim.stopSimulation()\n"
   ]
  }
 ],
 "metadata": {
  "kernelspec": {
   "display_name": "venv",
   "language": "python",
   "name": "python3"
  },
  "language_info": {
   "codemirror_mode": {
    "name": "ipython",
    "version": 3
   },
   "file_extension": ".py",
   "mimetype": "text/x-python",
   "name": "python",
   "nbconvert_exporter": "python",
   "pygments_lexer": "ipython3",
   "version": "3.12.3"
  }
 },
 "nbformat": 4,
 "nbformat_minor": 2
}
