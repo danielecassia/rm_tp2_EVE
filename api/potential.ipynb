{
 "cells": [
  {
   "cell_type": "markdown",
   "metadata": {},
   "source": [
    "# TP2 Robotica Movel - Potential Fields\n",
    "\n",
    "## Alunos\n",
    "- Bernardo Nogueira Borges 2020006396\n",
    "- Daniele Cassia Silva Diniz 2020076874\n"
   ]
  },
  {
   "cell_type": "markdown",
   "metadata": {},
   "source": [
    "### Importando Libs"
   ]
  },
  {
   "cell_type": "code",
   "execution_count": 47,
   "metadata": {},
   "outputs": [],
   "source": [
    "from coppeliasim_zmqremoteapi_client import RemoteAPIClient\n",
    "import math\n",
    "import matplotlib.pyplot as plt\n",
    "import matplotlib.patches as patches\n",
    "import numpy as np\n",
    "\n",
    "client = RemoteAPIClient()\n",
    "sim = client.require('sim')\n",
    "np.set_printoptions(precision=3,suppress=True)"
   ]
  },
  {
   "cell_type": "markdown",
   "metadata": {},
   "source": [
    "### Definindo Parametros"
   ]
  },
  {
   "cell_type": "code",
   "execution_count": 48,
   "metadata": {},
   "outputs": [],
   "source": [
    "\n",
    "CREATE_PLOTS = False\n",
    "q_init = (0,0)\n",
    "q_goal = (0,2)"
   ]
  },
  {
   "cell_type": "markdown",
   "metadata": {},
   "source": [
    "### Obtendo Matrizes do Pioneer"
   ]
  },
  {
   "cell_type": "code",
   "execution_count": 4,
   "metadata": {},
   "outputs": [
    {
     "name": "stdout",
     "output_type": "stream",
     "text": [
      "q = [-0.7444717884063721, -2.3749983310699463, -1.4835309872482196]\n"
     ]
    }
   ],
   "source": []
  },
  {
   "cell_type": "markdown",
   "metadata": {},
   "source": [
    "## Funções Potencial"
   ]
  },
  {
   "cell_type": "markdown",
   "metadata": {},
   "source": [
    "### Força de Atração\n",
    "$$F_{att}(q) = k_{att} \\cdot (q_{goal} - q)$$"
   ]
  },
  {
   "cell_type": "code",
   "execution_count": 30,
   "metadata": {},
   "outputs": [],
   "source": [
    "def ForceAttraction(q, q_goal, katt=.01):\n",
    "    return katt * (q_goal - q)"
   ]
  },
  {
   "cell_type": "markdown",
   "metadata": {},
   "source": [
    "### Força de repulsão\n",
    "$$F_{rep,i}(q) = -\\nabla U_{rep,i}(q)$$\n",
    "$$=\\begin{cases}\n",
    "  \\begin{aligned}\n",
    "    \\frac{k_{rep,i}}{\\rho_i^2(q)}\\left( \\frac{1}{\\rho_i(q)} - \\frac{1}{\\rho_{0,i}} \\right)^{\\gamma-1} \\frac{q - q_{obs,i}}{\\rho_i(q)} &, \\textnormal{se } \\rho_i(q) \\le \\rho_{0,i}\\\\\n",
    "    0&, \\textnormal{se } \\rho_i(q) \\gt \\rho_{0,i}\\\\\n",
    "  \\end{aligned}\n",
    "\\end{cases}\n",
    "$$"
   ]
  },
  {
   "cell_type": "code",
   "execution_count": 31,
   "metadata": {},
   "outputs": [],
   "source": [
    "LIMIT_RANGE = 5\n",
    "\n",
    "def ForceRepulsion(q, q_obs_i, dist_i, krep=.1):\n",
    "    if dist_i > LIMIT_RANGE:\n",
    "        return 0\n",
    "    \n",
    "    ans = (krep / dist_i**2)\n",
    "    ans *= (1/dist_i) - (1/LIMIT_RANGE)\n",
    "    ans *= (q-q_obs_i) / dist_i \n",
    "\n",
    "    return ans"
   ]
  },
  {
   "cell_type": "markdown",
   "metadata": {},
   "source": [
    "### Força Resultante \n",
    "$$F(q)  = F_{att}(q) + \\sum_{i=1}^{p}{F_{rep,i}(q)}$$"
   ]
  },
  {
   "cell_type": "code",
   "execution_count": 34,
   "metadata": {},
   "outputs": [],
   "source": [
    "def ForceResult(q,q_goal,q_obs,dist):\n",
    "    ans = ForceAttraction(q,q_goal) \n",
    "    for i in range(len(q_obs)):\n",
    "        ans += ForceRepulsion(q,q_obs[i],dist[i])\n",
    "    return ans"
   ]
  },
  {
   "cell_type": "markdown",
   "metadata": {},
   "source": [
    "### Controladores\n",
    "- [De Luca e Oriolo, 1994](https://www.researchgate.net/publication/225543929_Control_of_Wheeled_Mobile_Robots_An_Experimental_Overview)\n",
    "$$v = k_{\\rho}(\\dot x \\cos \\theta + \\dot y \\sin \\theta)$$\n",
    "$$\\omega = k_{\\theta}(atan2(\\dot y,\\dot x) - \\theta)$$"
   ]
  },
  {
   "cell_type": "code",
   "execution_count": null,
   "metadata": {},
   "outputs": [],
   "source": []
  },
  {
   "cell_type": "markdown",
   "metadata": {},
   "source": [
    "## Interação"
   ]
  },
  {
   "cell_type": "markdown",
   "metadata": {},
   "source": [
    "### Definindo a Leitura do Lazer"
   ]
  },
  {
   "cell_type": "code",
   "execution_count": 45,
   "metadata": {},
   "outputs": [],
   "source": [
    "def readSensorData():\n",
    "    # ? Atualizacao da funcao simxGetStringSignal \n",
    "    string_range_data = sim.getStringSignal(\"hokuyo_range_data\")\n",
    "    string_angle_data = sim.getStringSignal(\"hokuyo_angle_data\")\n",
    "\n",
    "    # Verifica se os dados foram obtidos corretamente\n",
    "    if string_range_data == None or string_angle_data == None: return None\n",
    "    \n",
    "    # unpack dos dados de range e angulos do sensor\n",
    "    raw_range_data = sim.unpackFloatTable(string_range_data)\n",
    "    raw_angle_data = sim.unpackFloatTable(string_angle_data)\n",
    "    return raw_range_data, raw_angle_data\n",
    "\n",
    "def getLaserData():\n",
    "    # Prosseguindo com as leituras\n",
    "    # Geralmente a primeira leitura é inválida (atenção ao Operation Mode)\n",
    "    # Em loop até garantir que as leituras serão válidas\n",
    "    sensor_data = readSensorData()\n",
    "    while sensor_data == None:\n",
    "        sensor_data = readSensorData()\n",
    "\n",
    "    raw_range_data, raw_angle_data = sensor_data\n",
    "    laser_data = np.array([raw_angle_data, raw_range_data]).T\n",
    "    return laser_data\n",
    "\n",
    "def getObstaclePositions(laser_data):\n",
    "    # Matriz de transformação laser -> robô\n",
    "    Trl = matrix_rel_robot(\"fastHokuyo\")\n",
    "    Trl = np.vstack([Trl,[0,0,0,1]])\n",
    "\n",
    "    # Matriz de transformação robô -> mundo\n",
    "    Twr = sim.getObjectMatrix(pioneer)\n",
    "    Twr = np.vstack([np.array(Twr).reshape(3,4),[0,0,0,1]])\n",
    "\n",
    "    def laser_read_to_point(laser_read):\n",
    "        ang, dist = laser_read\n",
    "        x = dist * np.cos(ang)\n",
    "        y = dist * np.sin(ang)\n",
    "                \n",
    "        # Ponto de leitura no referencial do laser\n",
    "        Pl = np.array([x,y,0,1])\n",
    "        # ponto laser -> robô\n",
    "        Pr =  Trl @ Pl\n",
    "        # ponto robô -> mundo\n",
    "        Pw =  Twr @ Pr\n",
    "        return np.array([Pw[0],Pw[1]])\n",
    "\n",
    "    return list(map(laser_read_to_point,laser_data))\n",
    "\n",
    "def draw_laser_data(laser_data,ax,show_robot=True):\n",
    "\n",
    "    # Matriz de transformação laser -> robô\n",
    "    Trl = matrix_rel_robot(\"fastHokuyo\")\n",
    "    Trl = np.vstack([Trl,[0,0,0,1]])\n",
    "\n",
    "    # Matriz de transformação robô -> mundo\n",
    "    Twr = sim.getObjectMatrix(pioneer)\n",
    "    Twr = np.vstack([np.array(Twr).reshape(3,4),[0,0,0,1]])\n",
    "\n",
    " \n",
    "    for i in range(len(laser_data)):\n",
    "        ang, dist = laser_data[i]\n",
    "        \n",
    "        # Quando o feixe não acerta nada, retorna o valor máximo (definido na simulação)\n",
    "        # Logo, usar um pequeno limiar do máximo para considerar a leitura\n",
    "        if (LIMIT_RANGE - dist) < 0.1:\n",
    "            continue\n",
    "\n",
    "        x = dist * np.cos(ang)\n",
    "        y = dist * np.sin(ang)\n",
    "\n",
    "        if show_robot:\n",
    "            c = 'b' if ang < 0 else 'r'\n",
    "        else:\n",
    "            c = 'g'\n",
    "        \n",
    "        # Ponto de leitura no referencial do laser\n",
    "        Pl = np.array([x,y,0,1])\n",
    "        # ponto laser -> robô\n",
    "        Pr =  Trl @ Pl\n",
    "        # ponto robô -> mundo\n",
    "        Pw =  Twr @ Pr\n",
    "\n",
    "        ax.plot(Pw[0], Pw[1], 'o', color=c)\n",
    "\n",
    "    if show_robot:\n",
    "        # Valores globais do Robo\n",
    "        q = getRobotQ()\n",
    "\n",
    "        # Plot do robô com referencial global\n",
    "        ax.plot(q[0], q[1], marker=(3, 0, q[2]*90), markersize=20, linestyle='None', color='black')\n",
    "\n",
    "    ax.grid()\n",
    "    ax.set_xlim([-LIMIT_RANGE, LIMIT_RANGE])\n",
    "    ax.set_ylim([-LIMIT_RANGE, LIMIT_RANGE])"
   ]
  },
  {
   "cell_type": "markdown",
   "metadata": {},
   "source": [
    "### Iniciando o Robô"
   ]
  },
  {
   "cell_type": "code",
   "execution_count": 53,
   "metadata": {},
   "outputs": [
    {
     "name": "stdout",
     "output_type": "stream",
     "text": [
      "q = [0.0, 0.0, -1.4835309872482196]\n"
     ]
    }
   ],
   "source": [
    "sim.stopSimulation()\n",
    "\n",
    "# Iniciar o Pioneer\n",
    "pioneer = sim.getObject(\"/Pioneer\")\n",
    "L = 0.381   # Metros\n",
    "r = 0.0975  # Metros\n",
    "sim.setObjectPosition(pioneer,[q_init[0],q_init[1],.2])\n",
    "\n",
    "right_motor = sim.getObject(\"/Pioneer/rightMotor\")\n",
    "left_motor = sim.getObject(\"/Pioneer/leftMotor\")\n",
    "\n",
    "sim.setJointTargetVelocity(right_motor, 0)\n",
    "sim.setJointTargetVelocity(left_motor, 0)\n",
    "\n",
    "def getRobotQ():\n",
    "    robotM = sim.getObjectMatrix(pioneer)\n",
    "    return [robotM[3],robotM[7],math.atan2(robotM[1],robotM[0])]\n",
    "\n",
    "q = getRobotQ()\n",
    "print(f\"q = {q}\")\n",
    "\n",
    "def matrix_rel_robot(name):\n",
    "    obj = sim.getObject(f\"/{name}\")\n",
    "    M = sim.getObjectMatrix(obj,pioneer)\n",
    "    M = np.array(M).reshape(-1,4)\n",
    "    return M"
   ]
  },
  {
   "cell_type": "markdown",
   "metadata": {},
   "source": [
    "### Movimentando o Robô"
   ]
  },
  {
   "cell_type": "code",
   "execution_count": 55,
   "metadata": {},
   "outputs": [
    {
     "name": "stdout",
     "output_type": "stream",
     "text": [
      "[-0.573 -1.348]\n",
      "[-0.58  -1.392]\n",
      "[-0.608 -1.389]\n",
      "[-0.63  -1.388]\n",
      "[-0.654 -1.382]\n",
      "[-0.673 -1.369]\n",
      "[-0.698 -1.384]\n",
      "[-0.715 -1.384]\n",
      "[-0.723 -1.385]\n",
      "[-0.739 -1.372]\n",
      "[-0.744 -1.386]\n",
      "[-0.759 -1.383]\n",
      "[-0.784 -1.381]\n",
      "[-0.809 -1.394]\n",
      "[-0.834 -1.377]\n",
      "[-0.854 -1.375]\n",
      "[-0.877 -1.36 ]\n",
      "[-0.901 -1.37 ]\n",
      "[-0.921 -1.369]\n",
      "[-0.943 -1.381]\n",
      "[-0.969 -1.364]\n",
      "[-0.994 -1.363]\n",
      "[-1.016 -1.376]\n",
      "[-1.039 -1.358]\n",
      "[-1.06  -1.357]\n",
      "[-1.087 -1.37 ]\n",
      "[-1.113 -1.34 ]\n",
      "[-1.136 -1.353]\n",
      "[-1.154 -1.351]\n",
      "[-1.183 -1.348]\n",
      "[-1.202 -1.347]\n",
      "[-1.234 -1.345]\n",
      "[-1.259 -1.342]\n",
      "[-1.277 -1.341]\n",
      "[-1.301 -1.34 ]\n",
      "[-1.331 -1.338]\n",
      "[-1.366 -1.334]\n"
     ]
    }
   ],
   "source": [
    "q_goal = np.array([1,2])\n",
    "\n",
    "sim.startSimulation()\n",
    "\n",
    "# if CREATE_PLOTS:\n",
    "#     fig, ax = plt.subplots(figsize=(6, 6), dpi=100)\n",
    "#     ax.set_aspect('equal')\n",
    "#     ax.grid()\n",
    "#     draw_laser_data(laser_data,ax)\n",
    "\n",
    "while (t := sim.getSimulationTime()) < 10:\n",
    "    q = getRobotQ()\n",
    "    laser_data = getLaserData()\n",
    "    q_obs = getObstaclePositions(laser_data)\n",
    "\n",
    "    force = ForceResult(q[:2],q_goal,q_obs,laser_data[:,1])\n",
    "    print(force)\n",
    "\n",
    "    # TODO\n",
    "    wl = 1\n",
    "    wr = 1\n",
    "\n",
    "    # Enviando velocidades\n",
    "    sim.setJointTargetVelocity(left_motor,wl)\n",
    "    sim.setJointTargetVelocity(right_motor,wr)\n",
    "\n",
    "    # Atualizando valores\n",
    "    # ?\n",
    "\n",
    "    sim.step()\n",
    "\n",
    "\n",
    "# Stop\n",
    "sim.setJointTargetVelocity(left_motor,0)\n",
    "sim.setJointTargetVelocity(right_motor,0)\n",
    "sim.stopSimulation()\n"
   ]
  }
 ],
 "metadata": {
  "kernelspec": {
   "display_name": "venv",
   "language": "python",
   "name": "python3"
  },
  "language_info": {
   "codemirror_mode": {
    "name": "ipython",
    "version": 3
   },
   "file_extension": ".py",
   "mimetype": "text/x-python",
   "name": "python",
   "nbconvert_exporter": "python",
   "pygments_lexer": "ipython3",
   "version": "3.12.3"
  }
 },
 "nbformat": 4,
 "nbformat_minor": 2
}
