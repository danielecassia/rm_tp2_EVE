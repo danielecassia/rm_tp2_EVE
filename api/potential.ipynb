{
 "cells": [
  {
   "cell_type": "markdown",
   "metadata": {},
   "source": [
    "# TP2 Robotica Movel - Potential Field\n",
    "\n",
    "## Alunos\n",
    "- Bernardo Nogueira Borges 2020006396\n",
    "- Daniele Cassia Silva Diniz 2020076874\n"
   ]
  },
  {
   "cell_type": "markdown",
   "metadata": {},
   "source": [
    "### Importando Libs"
   ]
  },
  {
   "cell_type": "code",
   "execution_count": 1,
   "metadata": {},
   "outputs": [],
   "source": [
    "from coppeliasim_zmqremoteapi_client import RemoteAPIClient\n",
    "import math\n",
    "import matplotlib.pyplot as plt\n",
    "import networkx as nx\n",
    "import numpy as np\n",
    "\n",
    "client = RemoteAPIClient()\n",
    "sim = client.require('sim')\n",
    "np.set_printoptions(precision=3,suppress=True)"
   ]
  },
  {
   "cell_type": "markdown",
   "metadata": {},
   "source": [
    "### Obtendo Objetos de Interesse"
   ]
  },
  {
   "cell_type": "code",
   "execution_count": 4,
   "metadata": {},
   "outputs": [],
   "source": [
    "# Objetos de interesse\n",
    "objects = [\n",
    "    (\"robot\",\"gray\"),\n",
    "]"
   ]
  },
  {
   "cell_type": "markdown",
   "metadata": {},
   "source": [
    "## Criando Potential Field"
   ]
  },
  {
   "cell_type": "code",
   "execution_count": 5,
   "metadata": {},
   "outputs": [
    {
     "name": "stdout",
     "output_type": "stream",
     "text": [
      "q = [12.85033196659206, 11.498903104382785, -1.57062771152732]\n"
     ]
    }
   ],
   "source": [
    "# Configuracao do robo no referencial global q = [x,y,theta]\n",
    "robot = sim.getObject(\"/robot\")\n",
    "\n",
    "def getRobotQ():\n",
    "    robotM = sim.getObjectMatrix(robot)\n",
    "    return [robotM[3],robotM[7],math.atan2(robotM[1],robotM[0])]\n",
    "\n",
    "q = getRobotQ()\n",
    "print(f\"q = {q}\")\n"
   ]
  },
  {
   "cell_type": "markdown",
   "metadata": {},
   "source": [
    "## Movendo o robô"
   ]
  },
  {
   "cell_type": "code",
   "execution_count": 6,
   "metadata": {},
   "outputs": [
    {
     "name": "stdout",
     "output_type": "stream",
     "text": [
      "TODO\n"
     ]
    }
   ],
   "source": [
    "print(\"TODO\")"
   ]
  }
 ],
 "metadata": {
  "kernelspec": {
   "display_name": "venv",
   "language": "python",
   "name": "python3"
  },
  "language_info": {
   "codemirror_mode": {
    "name": "ipython",
    "version": 3
   },
   "file_extension": ".py",
   "mimetype": "text/x-python",
   "name": "python",
   "nbconvert_exporter": "python",
   "pygments_lexer": "ipython3",
   "version": "3.12.3"
  }
 },
 "nbformat": 4,
 "nbformat_minor": 2
}
