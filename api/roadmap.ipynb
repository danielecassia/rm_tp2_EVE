{
 "cells": [
  {
   "cell_type": "markdown",
   "metadata": {},
   "source": [
    "# TP2 Robotica Movel - Roadmap\n",
    "\n",
    "## Alunos\n",
    "- Bernardo Nogueira Borges 2020006396\n",
    "- Daniele Cassia Silva Diniz 2020076874\n"
   ]
  },
  {
   "cell_type": "markdown",
   "metadata": {},
   "source": [
    "### Importando Libs"
   ]
  },
  {
   "cell_type": "code",
   "execution_count": 32,
   "metadata": {},
   "outputs": [],
   "source": [
    "from coppeliasim_zmqremoteapi_client import RemoteAPIClient\n",
    "import matplotlib.pyplot as plt\n",
    "import matplotlib.image as mpimg\n",
    "import networkx as nx\n",
    "import numpy as np\n",
    "\n",
    "client = RemoteAPIClient()\n",
    "sim = client.require('sim')\n",
    "np.set_printoptions(precision=3,suppress=True)"
   ]
  },
  {
   "cell_type": "markdown",
   "metadata": {},
   "source": [
    "### Definindo Mundo e Especificações "
   ]
  },
  {
   "cell_type": "code",
   "execution_count": 33,
   "metadata": {},
   "outputs": [],
   "source": [
    "# Flag para evitar figuras nao utilizadas\n",
    "CREATE_PLOTS = False\n",
    "\n",
    "#--------------------------------------------------#\n",
    "\n",
    "# Objetivos Maze\n",
    "start_node = (6,17)\n",
    "end_node = (17,6)\n",
    "\n",
    "# Maze\n",
    "figsize = (8,8)\n",
    "img = 1 - mpimg.imread('../img/maze.png')\n",
    "dims = [20,20] # Dimensoes do mapa (m)\n",
    "cell_size = 1  # Tamanho da celula do grid (m)\n",
    "\n",
    "#--------------------------------------------------#\n",
    "\n",
    "# # Objetivos Circle\n",
    "# start_node = (20,20)\n",
    "# end_node = (5,34)\n",
    "\n",
    "# # Circle\n",
    "# figsize = (8,8)\n",
    "# img = 1 - mpimg.imread('../img/circle.png')\n",
    "# dims = [40,40] # Dimensoes do mapa (m)\n",
    "# cell_size = 1  # Tamanho da celula do grid (m)"
   ]
  },
  {
   "cell_type": "markdown",
   "metadata": {},
   "source": [
    "### Obtendo Objetos de Interesse"
   ]
  },
  {
   "cell_type": "code",
   "execution_count": 34,
   "metadata": {},
   "outputs": [
    {
     "name": "stdout",
     "output_type": "stream",
     "text": [
      "Imagem carregada\n"
     ]
    }
   ],
   "source": [
    "# Definir range x e y para a conversao de mapa-cena\n",
    "sceneXrange = (10,-10) # para direita\n",
    "sceneYrange = (-10,10) # para baixo\n",
    "\n",
    "# Apenas para garantir que só teremos esses dois valores\n",
    "threshold = 0.2\n",
    "img[img > threshold] = 1\n",
    "img[img<= threshold] = 0\n",
    "\n",
    "# Definindo figura \n",
    "if CREATE_PLOTS:\n",
    "    fig = plt.figure(figsize=figsize,dpi=100)\n",
    "    ax = fig.add_subplot(111,aspect='equal')\n",
    "    ax.imshow(img, cmap='Greys', origin='upper')\n",
    "\n",
    "print(\"Imagem carregada\")"
   ]
  },
  {
   "cell_type": "markdown",
   "metadata": {},
   "source": [
    "### Definindo Grid"
   ]
  },
  {
   "cell_type": "code",
   "execution_count": 35,
   "metadata": {},
   "outputs": [
    {
     "name": "stdout",
     "output_type": "stream",
     "text": [
      "Grid definida\n",
      "20\n",
      "20\n"
     ]
    }
   ],
   "source": [
    "# Dimensões do mapa informado em metros (X, Y)\n",
    "map_dims = np.array(dims)\n",
    "\n",
    "# Escala Pixel/Metro\n",
    "sy, sx = img.shape[:2] / map_dims\n",
    "\n",
    "rows, cols = (map_dims / cell_size).astype(int)\n",
    "grid = np.zeros((rows, cols))\n",
    "\n",
    "gridXrange = (0,cols-1) # para direita\n",
    "gridYrange = (0,rows-1) # para baixo\n",
    "\n",
    "\n",
    "# Preenchendo o Grid\n",
    "# Cada célula recebe o somatório dos valores dos Pixels\n",
    "for r in range(rows):\n",
    "    for c in range(cols):\n",
    "        \n",
    "        xi = int(c*cell_size*sx)\n",
    "        xf = int(xi + cell_size*sx)\n",
    "        \n",
    "        yi = int(r*cell_size*sy)\n",
    "        yf = int(yi + cell_size*sy)\n",
    "                      \n",
    "        grid[r, c] = np.sum(img[yi:yf,xi:xf])\n",
    "        \n",
    "# Binarizando as células como Ocupadas (1) ou Não-ocupadas (0)       \n",
    "grid[grid > threshold] = 1\n",
    "grid[grid<= threshold] = 0        \n",
    "\n",
    "if CREATE_PLOTS:\n",
    "    fig = plt.figure(figsize=(8,8), dpi=100)\n",
    "    ax = fig.add_subplot(111, aspect='equal')\n",
    "\n",
    "    # Plotando Mapa e Células\n",
    "    obj = ax.imshow(img, cmap='Greys', extent=(0, map_dims[1], 0, map_dims[0]), origin='upper')\n",
    "    obj = ax.imshow(grid, cmap='Reds', extent=(0, map_dims[1], 0, map_dims[0]), alpha=.6)\n",
    "\n",
    "    # Plotando as linhas do grid para facilitar a visualização\n",
    "    ax.grid(which='major', axis='both', linestyle='-', color='r', linewidth=1)\n",
    "    ax.set_xticks(np.arange(0, map_dims[1]+1, cell_size))\n",
    "    ax.set_yticks(np.arange(0, map_dims[0]+1, cell_size))\n",
    "\n",
    "print(\"Grid definida\")\n",
    "print(rows)\n",
    "print(cols)"
   ]
  },
  {
   "cell_type": "markdown",
   "metadata": {},
   "source": [
    "### Criando o Grafo para o nosso Grid"
   ]
  },
  {
   "cell_type": "code",
   "execution_count": 36,
   "metadata": {},
   "outputs": [],
   "source": [
    "\n",
    "# Criando vértices em todas as células\n",
    "G = nx.grid_2d_graph(rows, cols) \n",
    "\n",
    "# Removendo células que estão em células marcas com obstáculos\n",
    "for r in range(rows):\n",
    "    for c in range(cols):\n",
    "        if grid[r][c] == 1:  \n",
    "            G.remove_node((r,c))\n",
    "\n",
    "\n",
    "if CREATE_PLOTS:\n",
    "    fig = plt.figure(figsize=(8,8), dpi=200)\n",
    "    ax = fig.add_subplot(111, aspect='equal')\n",
    "\n",
    "    # Grid\n",
    "    obj = ax.imshow(grid, cmap='Greys', extent=(0, map_dims[1], 0, map_dims[0]))\n",
    "\n",
    "    ax.grid(which='major', axis='both', linestyle='-', color='r', linewidth=1)\n",
    "    ax.set_xticks(np.arange(0, map_dims[1]+1, cell_size))\n",
    "    ax.set_yticks(np.arange(0, map_dims[0]+1, cell_size))\n",
    "\n",
    "    # Os vértices serão plotados no centro da célula  \n",
    "    pos = { node: (node[1]*cell_size+cell_size/2, map_dims[0]-node[0]*cell_size-cell_size/2) for node in G.nodes() }\n",
    "    nx.draw(G, pos, font_size=3, with_labels=True, node_size=50, node_color=\"g\", ax=ax)"
   ]
  },
  {
   "cell_type": "markdown",
   "metadata": {},
   "source": [
    "### Determinar menor caminho"
   ]
  },
  {
   "cell_type": "code",
   "execution_count": 37,
   "metadata": {},
   "outputs": [
    {
     "name": "stdout",
     "output_type": "stream",
     "text": [
      "Menor caminho identificado\n",
      "Usando os pontos:\n",
      "[(6, 17), (5, 17), (4, 17), (3, 17), (2, 17), (2, 16), (2, 15), (2, 14), (2, 13), (2, 12), (2, 11), (2, 10), (2, 9), (2, 8), (2, 7), (2, 6), (3, 6), (4, 6), (5, 6), (5, 7), (5, 8), (5, 9), (6, 9), (7, 9), (8, 9), (9, 9), (10, 9), (11, 9), (12, 9), (13, 9), (13, 8), (13, 7), (13, 6), (13, 5), (12, 5), (11, 5), (10, 5), (10, 4), (10, 3), (10, 2), (11, 2), (12, 2), (13, 2), (14, 2), (15, 2), (16, 2), (17, 2), (17, 3), (17, 4), (17, 5), (17, 6)]\n",
      "Para mover o robo de (6, 17) ate (17, 6)\n"
     ]
    }
   ],
   "source": [
    "path = nx.shortest_path(G, source=start_node, target=end_node)\n",
    "\n",
    "if CREATE_PLOTS:\n",
    "    fig = plt.figure(figsize=(8,8), dpi=100)\n",
    "    ax = fig.add_subplot(111, aspect='equal')\n",
    "\n",
    "    # Mapa\n",
    "    obj = ax.imshow(grid, cmap='Greys', extent=(0, map_dims[1], 0,map_dims[0]))\n",
    "\n",
    "    nx.draw_networkx_nodes(G, pos, nodelist=path, node_size=100, node_color='b')\n",
    "\n",
    "print(\"Menor caminho identificado\")\n",
    "\n",
    "print(\"Usando os pontos:\")\n",
    "print(path)\n",
    "print(f\"Para mover o robo de {start_node} ate {end_node}\")\n"
   ]
  },
  {
   "cell_type": "markdown",
   "metadata": {},
   "source": [
    "### Conversão de Sistema Grid - Scene"
   ]
  },
  {
   "cell_type": "code",
   "execution_count": 38,
   "metadata": {},
   "outputs": [],
   "source": [
    "def convertLinear(s1,s2):\n",
    "    (low1,up1) = s1\n",
    "    (low2,up2) = s2\n",
    "    def fn(x):\n",
    "        x -= low1\n",
    "        if low1 > up1: x *= -1\n",
    "        x /= abs(up1 - low1)\n",
    "        # Reached 0,1\n",
    "        x *= abs(up2 - low2)\n",
    "        if low2 > up2: x *= -1\n",
    "        x += low2\n",
    "        return x\n",
    "    return fn\n",
    "       \n",
    "def gridToScene(coords):\n",
    "    (x,y) = coords\n",
    "    fx = convertLinear(gridXrange,sceneXrange)\n",
    "    fy = convertLinear(gridYrange,sceneYrange)\n",
    "    return (fy(y),fx(x))\n",
    "\n",
    "def sceneToGrid(coords):\n",
    "    (x,y) = coords\n",
    "    fx = convertLinear(sceneXrange,gridXrange)\n",
    "    fy = convertLinear(sceneYrange,gridYrange)\n",
    "    return (fy(y),fx(x))\n"
   ]
  },
  {
   "cell_type": "markdown",
   "metadata": {},
   "source": [
    "### Iniciando o Robô"
   ]
  },
  {
   "cell_type": "code",
   "execution_count": 39,
   "metadata": {},
   "outputs": [],
   "source": [
    "sim.stopSimulation()\n",
    "\n",
    "# Iniciar o robotino\n",
    "L = 0.135 # m\n",
    "r = 0.040 # m\n",
    "robotino = sim.getObject(\"/robotino\")\n",
    "start_pos = gridToScene(start_node)\n",
    "sim.setObjectPosition(robotino,list(map(int,[start_pos[0],start_pos[1],1.99])))\n",
    "\n",
    "wheels = [0]*3\n",
    "for i in range(3):\n",
    "    wheels[i] = sim.getObject(f\"/wheel{i}_joint\")\n",
    "\n",
    "    # Parar as rodas inicialmente\n",
    "    sim.setJointTargetVelocity(wheels[i],0)\n"
   ]
  },
  {
   "cell_type": "markdown",
   "metadata": {},
   "source": [
    "### Definindo Matrizes"
   ]
  },
  {
   "cell_type": "code",
   "execution_count": 40,
   "metadata": {},
   "outputs": [],
   "source": [
    "def Rz(theta):\n",
    "    return np.array(\n",
    "        [[ np.cos(theta), -np.sin(theta), 0 ],\n",
    "         [ np.sin(theta), np.cos(theta) , 0 ],\n",
    "         [ 0            , 0             , 1 ]])\n",
    "\n",
    "# Cinemática Direta\n",
    "Mdir = np.array(\n",
    "    [[-r/np.sqrt(3), 0       , r/np.sqrt(3)],\n",
    "     [r/3          , (-2*r)/3, r/3         ],\n",
    "     [r/(3*L)      , r/(3*L) , r/(3*L)     ]])"
   ]
  },
  {
   "cell_type": "markdown",
   "metadata": {},
   "source": [
    "### Movendo o Robô"
   ]
  },
  {
   "cell_type": "code",
   "execution_count": 41,
   "metadata": {},
   "outputs": [],
   "source": [
    "sim.startSimulation()\n",
    "\n",
    "for midpoint in path:\n",
    "\n",
    "    # ? Mudar para cada ponto desejado :)\n",
    "    curr_goal_pos = gridToScene(midpoint)\n",
    "    qgoal = np.array([curr_goal_pos[0], curr_goal_pos[1] , 0.05])\n",
    "\n",
    "    # Frame que representa o Goal\n",
    "    goalObject = sim.getObject(\"/Goal\")\n",
    "    sim.setObjectPosition(goalObject,list(map(int,[qgoal[0],qgoal[1],0])))\n",
    "    sim.setObjectOrientation(goalObject,list(map(int,[0,0,qgoal[2]])))\n",
    "\n",
    "    gain = [[1.1,0,0],\n",
    "            [0,1.1,0],\n",
    "            [0,0,1.1]]\n",
    "\n",
    "    while True:\n",
    "        pos = sim.getObjectPosition(robotino)\n",
    "        ori = sim.getObjectOrientation(robotino)\n",
    "        q = np.array([pos[0],pos[1],ori[2]])\n",
    "\n",
    "        error = qgoal - q\n",
    "\n",
    "        # Margem aceitavel de distancia\n",
    "        if np.linalg.norm(error[:2]) < 0.3:\n",
    "            break\n",
    "\n",
    "        # Controller\n",
    "        qdot = gain @ error\n",
    "\n",
    "        # Cinematica Inversa\n",
    "        # w1, w2, w3\n",
    "        Minv = np.linalg.inv(Rz(q[2]) @ Mdir)\n",
    "        u = Minv @ qdot\n",
    "\n",
    "        # Enviando velocidades\n",
    "        for i in range(3):\n",
    "            sim.setJointTargetVelocity(wheels[i], u[i])\n",
    "    \n",
    "for i in range(3):\n",
    "    sim.setJointTargetVelocity(wheels[i], 0)\n",
    "\n",
    "sim.stopSimulation()\n"
   ]
  }
 ],
 "metadata": {
  "kernelspec": {
   "display_name": "venv",
   "language": "python",
   "name": "python3"
  },
  "language_info": {
   "codemirror_mode": {
    "name": "ipython",
    "version": 3
   },
   "file_extension": ".py",
   "mimetype": "text/x-python",
   "name": "python",
   "nbconvert_exporter": "python",
   "pygments_lexer": "ipython3",
   "version": "3.12.3"
  }
 },
 "nbformat": 4,
 "nbformat_minor": 2
}
