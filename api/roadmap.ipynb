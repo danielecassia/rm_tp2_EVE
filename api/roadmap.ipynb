{
 "cells": [
  {
   "cell_type": "markdown",
   "metadata": {},
   "source": [
    "# TP2 Robotica Movel - Roadmap\n",
    "\n",
    "## Alunos\n",
    "- Bernardo Nogueira Borges 2020006396\n",
    "- Daniele Cassia Silva Diniz 2020076874\n"
   ]
  },
  {
   "cell_type": "markdown",
   "metadata": {},
   "source": [
    "### Importando Libs"
   ]
  },
  {
   "cell_type": "code",
   "execution_count": 2,
   "metadata": {},
   "outputs": [],
   "source": [
    "from coppeliasim_zmqremoteapi_client import RemoteAPIClient\n",
    "import math\n",
    "import matplotlib.pyplot as plt\n",
    "import matplotlib.image as mpimg\n",
    "import networkx as nx\n",
    "import numpy as np\n",
    "\n",
    "client = RemoteAPIClient()\n",
    "sim = client.require('sim')\n",
    "np.set_printoptions(precision=3,suppress=True)"
   ]
  },
  {
   "cell_type": "markdown",
   "metadata": {},
   "source": [
    "### Obtendo Objetos de Interesse"
   ]
  },
  {
   "cell_type": "code",
   "execution_count": 2,
   "metadata": {},
   "outputs": [
    {
     "name": "stdout",
     "output_type": "stream",
     "text": [
      "Imagem carregada\n"
     ]
    }
   ],
   "source": [
    "# Objetos de interesse\n",
    "\n",
    "# Flag para evitar figuras nao utilizadas\n",
    "CREATE_PLOTS = False\n",
    "\n",
    "# Cave\n",
    "figsize = (8,8)\n",
    "img = 1 - mpimg.imread('../scene/cave.png')\n",
    "dims = [70,70] # Dimensoes do mapa (m)\n",
    "cell_size = 2  # Tamanha da celula do grid (m)\n",
    "start_node = (1,1)\n",
    "end_node = (30,30)\n",
    "\n",
    "# Apenas para garantir que só teremos esses dois valores\n",
    "threshold = 0.5\n",
    "img[img > threshold] = 1\n",
    "img[img<= threshold] = 0\n",
    "\n",
    "\n",
    "# Definindo figura \n",
    "if CREATE_PLOTS:\n",
    "    fig = plt.figure(figsize=figsize,dpi=100)\n",
    "    ax = fig.add_subplot(111,aspect='equal')\n",
    "    ax.imshow(img, cmap='Greys', origin='upper')\n",
    "\n",
    "print(\"Imagem carregada\")"
   ]
  },
  {
   "cell_type": "code",
   "execution_count": 3,
   "metadata": {},
   "outputs": [
    {
     "name": "stdout",
     "output_type": "stream",
     "text": [
      "Grid definida\n"
     ]
    }
   ],
   "source": [
    "# Dimensões do mapa informado em metros (X, Y)\n",
    "map_dims = np.array(dims)\n",
    "\n",
    "# Escala Pixel/Metro\n",
    "sy, sx = img.shape / map_dims\n",
    "\n",
    "rows, cols = (map_dims / cell_size).astype(int)\n",
    "grid = np.zeros((rows, cols))\n",
    "\n",
    "# Preenchendo o Grid\n",
    "# Cada célula recebe o somatório dos valores dos Pixels\n",
    "for r in range(rows):\n",
    "    for c in range(cols):\n",
    "        \n",
    "        xi = int(c*cell_size*sx)\n",
    "        xf = int(xi + cell_size*sx)\n",
    "        \n",
    "        yi = int(r*cell_size*sy)\n",
    "        yf = int(yi + cell_size*sy)\n",
    "                      \n",
    "        grid[r, c] = np.sum(img[yi:yf,xi:xf])\n",
    "        \n",
    "# Binarizando as células como Ocupadas (1) ou Não-ocupadas (0)       \n",
    "grid[grid > threshold] = 1\n",
    "grid[grid<= threshold] = 0        \n",
    "\n",
    "if CREATE_PLOTS:\n",
    "    fig = plt.figure(figsize=(8,8), dpi=100)\n",
    "    ax = fig.add_subplot(111, aspect='equal')\n",
    "\n",
    "    # Plotando Mapa e Células\n",
    "    obj = ax.imshow(img, cmap='Greys', extent=(0, map_dims[1], 0, map_dims[0]), origin='upper')\n",
    "    obj = ax.imshow(grid, cmap='Reds', extent=(0, map_dims[1], 0, map_dims[0]), alpha=.6)\n",
    "\n",
    "    # Plotando as linhas do grid para facilitar a visualização\n",
    "    ax.grid(which='major', axis='both', linestyle='-', color='r', linewidth=1)\n",
    "    ax.set_xticks(np.arange(0, map_dims[1]+1, cell_size))\n",
    "    ax.set_yticks(np.arange(0, map_dims[0]+1, cell_size))\n",
    "\n",
    "print(\"Grid definida\")"
   ]
  },
  {
   "cell_type": "markdown",
   "metadata": {},
   "source": [
    "### Criando o Grafo para o nosso Grid"
   ]
  },
  {
   "cell_type": "code",
   "execution_count": 4,
   "metadata": {},
   "outputs": [],
   "source": [
    "\n",
    "# Criando vértices em todas as células\n",
    "G = nx.grid_2d_graph(rows, cols) \n",
    "\n",
    "# Removendo células que estão em células marcas com obstáculos\n",
    "for r in range(rows):\n",
    "    for c in range(cols):\n",
    "        if grid[r][c] == 1:  \n",
    "            G.remove_node((r,c))\n",
    "\n",
    "\n",
    "if CREATE_PLOTS:\n",
    "    fig = plt.figure(figsize=(8,8), dpi=100)\n",
    "    ax = fig.add_subplot(111, aspect='equal')\n",
    "\n",
    "    # Grid\n",
    "    obj = ax.imshow(grid, cmap='Greys', extent=(0, map_dims[1], 0, map_dims[0]))\n",
    "\n",
    "    ax.grid(which='major', axis='both', linestyle='-', color='r', linewidth=1)\n",
    "    ax.set_xticks(np.arange(0, map_dims[1]+1, cell_size))\n",
    "    ax.set_yticks(np.arange(0, map_dims[0]+1, cell_size))\n",
    "\n",
    "    # Os vértices serão plotados no centro da célula  \n",
    "    pos = { node: (node[1]*cell_size+cell_size/2, map_dims[0]-node[0]*cell_size-cell_size/2) for node in G.nodes() }\n",
    "    nx.draw(G, pos, font_size=3, with_labels=True, node_size=50, node_color=\"g\", ax=ax)"
   ]
  },
  {
   "cell_type": "markdown",
   "metadata": {},
   "source": [
    "### Determinar menor caminho"
   ]
  },
  {
   "cell_type": "code",
   "execution_count": 5,
   "metadata": {},
   "outputs": [
    {
     "name": "stdout",
     "output_type": "stream",
     "text": [
      "Menor caminho identificado\n"
     ]
    }
   ],
   "source": [
    "path = nx.shortest_path(G, source=start_node, target=end_node)\n",
    "\n",
    "if CREATE_PLOTS:\n",
    "    fig = plt.figure(figsize=(8,8), dpi=100)\n",
    "    ax = fig.add_subplot(111, aspect='equal')\n",
    "\n",
    "    # Mapa\n",
    "    obj = ax.imshow(grid, cmap='Greys', extent=(0, map_dims[1], 0,map_dims[0]))\n",
    "\n",
    "    nx.draw_networkx_nodes(G, pos, nodelist=path, node_size=100, node_color='b')\n",
    "\n",
    "print(\"Menor caminho identificado\")"
   ]
  },
  {
   "cell_type": "markdown",
   "metadata": {},
   "source": [
    "## Movendo o robô"
   ]
  },
  {
   "cell_type": "code",
   "execution_count": 23,
   "metadata": {},
   "outputs": [
    {
     "name": "stdout",
     "output_type": "stream",
     "text": [
      "TODO\n",
      "Usando os pontos:\n"
     ]
    }
   ],
   "source": [
    "print(\"TODO\")\n",
    "print(\"Usando os pontos:\")\n",
    "# print(path)\n",
    "# print(f\"Mover o robo de {start_node} ate {end_node}\")\n",
    "\n",
    "def Rz(theta):\n",
    "    return np.array(\n",
    "        [[ np.cos(theta), -np.sin(theta), 0 ],\n",
    "         [ np.sin(theta), np.cos(theta) , 0 ],\n",
    "         [ 0            , 0             , 1 ]])\n"
   ]
  },
  {
   "cell_type": "code",
   "execution_count": 33,
   "metadata": {},
   "outputs": [],
   "source": [
    "\n",
    "L = 0.135 # m\n",
    "r = 0.040 # m\n",
    "robotino = sim.getObject(\"/robotino\")\n",
    "wheel0 = sim.getObject(\"/wheel0_joint\")\n",
    "wheel1 = sim.getObject(\"/wheel1_joint\")\n",
    "wheel2 = sim.getObject(\"/wheel2_joint\")\n",
    "\n",
    "# Cinemática Direta\n",
    "Mdir = np.array([[-r/np.sqrt(3), 0, r/np.sqrt(3)], [r/3, (-2*r)/3, r/3], [r/(3*L), r/(3*L), r/(3*L)]])\n",
    "        \n",
    "# Goal configuration (x, y, theta)    \n",
    "\n",
    "# ? Mudar para cada ponto desejado :)\n",
    "qgoal = np.array([12, 12, 0])\n",
    " \n",
    "# Frame que representa o Goal\n",
    "goalObject = sim.getObject(\"/Goal\")\n",
    "sim.setObjectPosition(goalObject,list(map(int,[qgoal[0],qgoal[1],0])))\n",
    "sim.setObjectOrientation(goalObject,list(map(int,[0,0,qgoal[2]])))\n",
    "\n",
    "gain = [[0.1,0,0],\n",
    "        [0,0.1,0],\n",
    "        [0,0,0.1]]\n",
    "\n",
    "sim.startSimulation()\n",
    "while True:\n",
    "    pos = sim.getObjectPosition(robotino)\n",
    "    ori = sim.getObjectOrientation(robotino)\n",
    "    q = np.array([pos[0],pos[1],ori[2]])\n",
    "\n",
    "    error = qgoal - q\n",
    "\n",
    "    # Margem aceitavel de distancia\n",
    "    if np.linalg.norm(error[:2]) < 0.1:\n",
    "        break\n",
    "\n",
    "    # Controller\n",
    "    qdot = gain @ error\n",
    "\n",
    "    # Cinematica Inversa\n",
    "    # w1, w2, w3\n",
    "    Minv = np.linalg.inv(Rz(q[2]) @ Mdir)\n",
    "    u = Minv @ qdot\n",
    "\n",
    "    # Enviando velocidades\n",
    "    sim.setJointTargetVelocity(wheel0, u[0])\n",
    "    sim.setJointTargetVelocity(wheel1, u[1])\n",
    "    sim.setJointTargetVelocity(wheel2, u[2])\n",
    "\n",
    "sim.setJointTargetVelocity(wheel0, 0)\n",
    "sim.setJointTargetVelocity(wheel1, 0)\n",
    "sim.setJointTargetVelocity(wheel2, 0)\n",
    "\n",
    "sim.stopSimulation()\n"
   ]
  }
 ],
 "metadata": {
  "kernelspec": {
   "display_name": "venv",
   "language": "python",
   "name": "python3"
  },
  "language_info": {
   "codemirror_mode": {
    "name": "ipython",
    "version": 3
   },
   "file_extension": ".py",
   "mimetype": "text/x-python",
   "name": "python",
   "nbconvert_exporter": "python",
   "pygments_lexer": "ipython3",
   "version": "3.12.3"
  }
 },
 "nbformat": 4,
 "nbformat_minor": 2
}
